{
 "cells": [
  {
   "cell_type": "code",
   "execution_count": 1,
   "metadata": {},
   "outputs": [
    {
     "name": "stderr",
     "output_type": "stream",
     "text": [
      "/Users/kamakshibansal/opt/anaconda3/lib/python3.7/site-packages/tqdm/std.py:648: FutureWarning: The Panel class is removed from pandas. Accessing it from the top-level namespace will also be removed in the next version\n",
      "  from pandas import Panel\n"
     ]
    }
   ],
   "source": [
    "import string\n",
    "import sys\n",
    "import os\n",
    "import pandas as pd\n",
    "import numpy as np\n",
    "import re\n",
    "from tqdm import *\n",
    "tqdm.pandas()"
   ]
  },
  {
   "cell_type": "code",
   "execution_count": 2,
   "metadata": {},
   "outputs": [],
   "source": [
    "File_symp= pd.read_csv(\"/Users/kamakshibansal/Moorfields/Top_32_diagnosis_90.89%.csv\")\n",
    "\n",
    "File_symp=File_symp.dropna(axis=0)\n",
    "wordFrequency_name = dict.fromkeys(File_symp[\"Diagnosis\"].str.lower().unique().tolist(),1 )"
   ]
  },
  {
   "cell_type": "code",
   "execution_count": 3,
   "metadata": {
    "scrolled": true
   },
   "outputs": [
    {
     "data": {
      "text/html": [
       "<div>\n",
       "<style scoped>\n",
       "    .dataframe tbody tr th:only-of-type {\n",
       "        vertical-align: middle;\n",
       "    }\n",
       "\n",
       "    .dataframe tbody tr th {\n",
       "        vertical-align: top;\n",
       "    }\n",
       "\n",
       "    .dataframe thead th {\n",
       "        text-align: right;\n",
       "    }\n",
       "</style>\n",
       "<table border=\"1\" class=\"dataframe\">\n",
       "  <thead>\n",
       "    <tr style=\"text-align: right;\">\n",
       "      <th></th>\n",
       "      <th>Diagnosis</th>\n",
       "    </tr>\n",
       "  </thead>\n",
       "  <tbody>\n",
       "    <tr>\n",
       "      <td>0</td>\n",
       "      <td>BLEPHARITIS</td>\n",
       "    </tr>\n",
       "    <tr>\n",
       "      <td>1</td>\n",
       "      <td>DRY EYES</td>\n",
       "    </tr>\n",
       "    <tr>\n",
       "      <td>2</td>\n",
       "      <td>ACUTE ANTERIOR UVEITIS</td>\n",
       "    </tr>\n",
       "    <tr>\n",
       "      <td>3</td>\n",
       "      <td>CONJUNCTIVITIS</td>\n",
       "    </tr>\n",
       "    <tr>\n",
       "      <td>4</td>\n",
       "      <td>POSTERIOR VITREOUS DETACHMENT</td>\n",
       "    </tr>\n",
       "    <tr>\n",
       "      <td>5</td>\n",
       "      <td>CORNEAL ABRASION</td>\n",
       "    </tr>\n",
       "    <tr>\n",
       "      <td>6</td>\n",
       "      <td>CHALAZION</td>\n",
       "    </tr>\n",
       "    <tr>\n",
       "      <td>7</td>\n",
       "      <td>CONTACT LENS ASSOCIATED KERATITIS</td>\n",
       "    </tr>\n",
       "    <tr>\n",
       "      <td>8</td>\n",
       "      <td>NO OPHTHALMIC ABNORMALITY DETECTED</td>\n",
       "    </tr>\n",
       "    <tr>\n",
       "      <td>9</td>\n",
       "      <td>SUB CONJUNCTIVAL HAEMORRHAGE</td>\n",
       "    </tr>\n",
       "    <tr>\n",
       "      <td>10</td>\n",
       "      <td>CORNEAL FOREIGN BODY</td>\n",
       "    </tr>\n",
       "    <tr>\n",
       "      <td>11</td>\n",
       "      <td>CATARACT</td>\n",
       "    </tr>\n",
       "    <tr>\n",
       "      <td>12</td>\n",
       "      <td>VIRAL CONJUNCTIVITIS</td>\n",
       "    </tr>\n",
       "    <tr>\n",
       "      <td>13</td>\n",
       "      <td>ALLERGIC CONJUNCTIVITIS</td>\n",
       "    </tr>\n",
       "    <tr>\n",
       "      <td>14</td>\n",
       "      <td>GLAUCOMA</td>\n",
       "    </tr>\n",
       "    <tr>\n",
       "      <td>15</td>\n",
       "      <td>RECURRENT EROSION SYNDROME</td>\n",
       "    </tr>\n",
       "    <tr>\n",
       "      <td>16</td>\n",
       "      <td>EYE PROBLEM</td>\n",
       "    </tr>\n",
       "    <tr>\n",
       "      <td>17</td>\n",
       "      <td>MARGINAL KERATITIS</td>\n",
       "    </tr>\n",
       "    <tr>\n",
       "      <td>18</td>\n",
       "      <td>EPISCLERITIS</td>\n",
       "    </tr>\n",
       "    <tr>\n",
       "      <td>19</td>\n",
       "      <td>RETINAL DETACHMENT</td>\n",
       "    </tr>\n",
       "    <tr>\n",
       "      <td>20</td>\n",
       "      <td>PRE-SEPTAL CELLULITIS</td>\n",
       "    </tr>\n",
       "    <tr>\n",
       "      <td>21</td>\n",
       "      <td>AGE RELATED MACULAR DEGENERATION</td>\n",
       "    </tr>\n",
       "    <tr>\n",
       "      <td>22</td>\n",
       "      <td>HERPES SIMPLEX KERATITIS</td>\n",
       "    </tr>\n",
       "    <tr>\n",
       "      <td>23</td>\n",
       "      <td>MIGRAINE</td>\n",
       "    </tr>\n",
       "    <tr>\n",
       "      <td>24</td>\n",
       "      <td>MICROBIAL KERATITIS</td>\n",
       "    </tr>\n",
       "    <tr>\n",
       "      <td>25</td>\n",
       "      <td>VITREOUS HAEMORRHAGE</td>\n",
       "    </tr>\n",
       "    <tr>\n",
       "      <td>26</td>\n",
       "      <td>SUB TARSAL FOREIGN BODY</td>\n",
       "    </tr>\n",
       "    <tr>\n",
       "      <td>27</td>\n",
       "      <td>CORNEAL PROBLEM</td>\n",
       "    </tr>\n",
       "    <tr>\n",
       "      <td>28</td>\n",
       "      <td>CONJUNCTIVAL PROBLEM</td>\n",
       "    </tr>\n",
       "    <tr>\n",
       "      <td>29</td>\n",
       "      <td>RETINAL PROBLEM</td>\n",
       "    </tr>\n",
       "  </tbody>\n",
       "</table>\n",
       "</div>"
      ],
      "text/plain": [
       "                             Diagnosis\n",
       "0                          BLEPHARITIS\n",
       "1                             DRY EYES\n",
       "2               ACUTE ANTERIOR UVEITIS\n",
       "3                       CONJUNCTIVITIS\n",
       "4        POSTERIOR VITREOUS DETACHMENT\n",
       "5                     CORNEAL ABRASION\n",
       "6                            CHALAZION\n",
       "7    CONTACT LENS ASSOCIATED KERATITIS\n",
       "8   NO OPHTHALMIC ABNORMALITY DETECTED\n",
       "9         SUB CONJUNCTIVAL HAEMORRHAGE\n",
       "10                CORNEAL FOREIGN BODY\n",
       "11                            CATARACT\n",
       "12                VIRAL CONJUNCTIVITIS\n",
       "13             ALLERGIC CONJUNCTIVITIS\n",
       "14                            GLAUCOMA\n",
       "15          RECURRENT EROSION SYNDROME\n",
       "16                         EYE PROBLEM\n",
       "17                  MARGINAL KERATITIS\n",
       "18                        EPISCLERITIS\n",
       "19                  RETINAL DETACHMENT\n",
       "20               PRE-SEPTAL CELLULITIS\n",
       "21    AGE RELATED MACULAR DEGENERATION\n",
       "22            HERPES SIMPLEX KERATITIS\n",
       "23                            MIGRAINE\n",
       "24                 MICROBIAL KERATITIS\n",
       "25                VITREOUS HAEMORRHAGE\n",
       "26             SUB TARSAL FOREIGN BODY\n",
       "27                     CORNEAL PROBLEM\n",
       "28                CONJUNCTIVAL PROBLEM\n",
       "29                     RETINAL PROBLEM"
      ]
     },
     "execution_count": 3,
     "metadata": {},
     "output_type": "execute_result"
    }
   ],
   "source": [
    "File_symp"
   ]
  },
  {
   "cell_type": "code",
   "execution_count": 4,
   "metadata": {
    "scrolled": true
   },
   "outputs": [
    {
     "data": {
      "text/plain": [
       "{'blepharitis': 1,\n",
       " 'dry eyes': 1,\n",
       " 'acute anterior uveitis': 1,\n",
       " 'conjunctivitis': 1,\n",
       " 'posterior vitreous detachment': 1,\n",
       " 'corneal abrasion': 1,\n",
       " 'chalazion': 1,\n",
       " 'contact lens associated keratitis': 1,\n",
       " 'no ophthalmic abnormality detected': 1,\n",
       " 'sub conjunctival haemorrhage': 1,\n",
       " 'corneal foreign body': 1,\n",
       " 'cataract': 1,\n",
       " 'viral conjunctivitis': 1,\n",
       " 'allergic conjunctivitis': 1,\n",
       " 'glaucoma': 1,\n",
       " 'recurrent erosion syndrome': 1,\n",
       " 'eye problem': 1,\n",
       " 'marginal keratitis': 1,\n",
       " 'episcleritis': 1,\n",
       " 'retinal detachment': 1,\n",
       " 'pre-septal cellulitis': 1,\n",
       " 'age related macular degeneration': 1,\n",
       " 'herpes simplex keratitis': 1,\n",
       " 'migraine': 1,\n",
       " 'microbial keratitis': 1,\n",
       " 'vitreous haemorrhage': 1,\n",
       " 'sub tarsal foreign body': 1,\n",
       " 'corneal problem': 1,\n",
       " 'conjunctival problem': 1,\n",
       " 'retinal problem': 1}"
      ]
     },
     "execution_count": 4,
     "metadata": {},
     "output_type": "execute_result"
    }
   ],
   "source": [
    "\n",
    "wordFrequency_name"
   ]
  },
  {
   "cell_type": "code",
   "execution_count": 5,
   "metadata": {},
   "outputs": [],
   "source": [
    "def clean_sentences(sentence):\n",
    "    result1= sentence.replace(', ', ',')\n",
    "    return result1\n",
    "\n",
    "\n",
    "def clean_mr_and_remove_stopwords(query, merge_dict):\n",
    "    result2 = query.split(\",\")\n",
    "    resultwords  = [word for word in result2 if merge_dict[word]==0]\n",
    "    final= ','.join(resultwords)\n",
    "    final= final.rstrip()\n",
    "    return final\n",
    "\n"
   ]
  },
  {
   "cell_type": "code",
   "execution_count": 6,
   "metadata": {
    "scrolled": true
   },
   "outputs": [
    {
     "name": "stderr",
     "output_type": "stream",
     "text": [
      "100%|██████████| 1871/1871 [00:00<00:00, 372397.99it/s]\n",
      "100%|██████████| 1871/1871 [00:00<00:00, 141690.76it/s]\n",
      "100%|██████████| 7700/7700 [00:00<00:00, 526321.51it/s]\n",
      "100%|██████████| 7700/7700 [00:00<00:00, 265647.88it/s]"
     ]
    },
    {
     "name": "stdout",
     "output_type": "stream",
     "text": [
      "Working on year 1999 file\n",
      "15.9 ms ± 0 ns per loop (mean ± std. dev. of 1 run, 1 loop each)\n",
      "28.3 ms ± 0 ns per loop (mean ± std. dev. of 1 run, 1 loop each)\n",
      "Working on year 2000 file\n",
      "18.6 ms ± 0 ns per loop (mean ± std. dev. of 1 run, 1 loop each)\n",
      "32.9 ms ± 0 ns per loop (mean ± std. dev. of 1 run, 1 loop each)\n"
     ]
    },
    {
     "name": "stderr",
     "output_type": "stream",
     "text": [
      "\n",
      "100%|██████████| 8857/8857 [00:00<00:00, 603420.03it/s]\n",
      "100%|██████████| 8857/8857 [00:00<00:00, 279197.86it/s]\n"
     ]
    },
    {
     "name": "stdout",
     "output_type": "stream",
     "text": [
      "Working on year 2001 file\n",
      "18 ms ± 0 ns per loop (mean ± std. dev. of 1 run, 1 loop each)\n",
      "35.4 ms ± 0 ns per loop (mean ± std. dev. of 1 run, 1 loop each)\n",
      "Working on year 2002 file\n"
     ]
    },
    {
     "name": "stderr",
     "output_type": "stream",
     "text": [
      "100%|██████████| 13409/13409 [00:00<00:00, 589711.99it/s]\n",
      "100%|██████████| 13409/13409 [00:00<00:00, 277824.60it/s]\n"
     ]
    },
    {
     "name": "stdout",
     "output_type": "stream",
     "text": [
      "25.8 ms ± 0 ns per loop (mean ± std. dev. of 1 run, 1 loop each)\n",
      "51.8 ms ± 0 ns per loop (mean ± std. dev. of 1 run, 1 loop each)\n",
      "Working on year 2003 file\n"
     ]
    },
    {
     "name": "stderr",
     "output_type": "stream",
     "text": [
      "100%|██████████| 30418/30418 [00:00<00:00, 545937.59it/s]\n",
      "100%|██████████| 30418/30418 [00:00<00:00, 285237.88it/s]\n"
     ]
    },
    {
     "name": "stdout",
     "output_type": "stream",
     "text": [
      "59.7 ms ± 0 ns per loop (mean ± std. dev. of 1 run, 1 loop each)\n",
      "111 ms ± 0 ns per loop (mean ± std. dev. of 1 run, 1 loop each)\n"
     ]
    },
    {
     "name": "stderr",
     "output_type": "stream",
     "text": [
      "\r",
      "  0%|          | 0/43038 [00:00<?, ?it/s]"
     ]
    },
    {
     "name": "stdout",
     "output_type": "stream",
     "text": [
      "Working on year 2004 file\n"
     ]
    },
    {
     "name": "stderr",
     "output_type": "stream",
     "text": [
      "100%|██████████| 43038/43038 [00:00<00:00, 527736.72it/s]\n",
      "100%|██████████| 43038/43038 [00:00<00:00, 302753.67it/s]\n"
     ]
    },
    {
     "name": "stdout",
     "output_type": "stream",
     "text": [
      "86.2 ms ± 0 ns per loop (mean ± std. dev. of 1 run, 1 loop each)\n",
      "146 ms ± 0 ns per loop (mean ± std. dev. of 1 run, 1 loop each)\n"
     ]
    },
    {
     "name": "stderr",
     "output_type": "stream",
     "text": [
      "\r",
      "  0%|          | 0/50274 [00:00<?, ?it/s]"
     ]
    },
    {
     "name": "stdout",
     "output_type": "stream",
     "text": [
      "Working on year 2005 file\n"
     ]
    },
    {
     "name": "stderr",
     "output_type": "stream",
     "text": [
      "100%|██████████| 50274/50274 [00:00<00:00, 588377.35it/s]\n",
      "100%|██████████| 50274/50274 [00:00<00:00, 270582.90it/s]"
     ]
    },
    {
     "name": "stdout",
     "output_type": "stream",
     "text": [
      "90.1 ms ± 0 ns per loop (mean ± std. dev. of 1 run, 1 loop each)\n",
      "191 ms ± 0 ns per loop (mean ± std. dev. of 1 run, 1 loop each)\n"
     ]
    },
    {
     "name": "stderr",
     "output_type": "stream",
     "text": [
      "\n",
      "  0%|          | 0/55703 [00:00<?, ?it/s]"
     ]
    },
    {
     "name": "stdout",
     "output_type": "stream",
     "text": [
      "Working on year 2006 file\n"
     ]
    },
    {
     "name": "stderr",
     "output_type": "stream",
     "text": [
      "100%|██████████| 55703/55703 [00:00<00:00, 574158.22it/s]\n",
      "100%|██████████| 55703/55703 [00:00<00:00, 314755.74it/s]\n"
     ]
    },
    {
     "name": "stdout",
     "output_type": "stream",
     "text": [
      "103 ms ± 0 ns per loop (mean ± std. dev. of 1 run, 1 loop each)\n",
      "181 ms ± 0 ns per loop (mean ± std. dev. of 1 run, 1 loop each)\n"
     ]
    },
    {
     "name": "stderr",
     "output_type": "stream",
     "text": [
      "\r",
      "  0%|          | 0/58563 [00:00<?, ?it/s]"
     ]
    },
    {
     "name": "stdout",
     "output_type": "stream",
     "text": [
      "Working on year 2007 file\n"
     ]
    },
    {
     "name": "stderr",
     "output_type": "stream",
     "text": [
      "100%|██████████| 58563/58563 [00:00<00:00, 632430.70it/s]\n",
      "100%|██████████| 58563/58563 [00:00<00:00, 321694.79it/s]\n"
     ]
    },
    {
     "name": "stdout",
     "output_type": "stream",
     "text": [
      "97.6 ms ± 0 ns per loop (mean ± std. dev. of 1 run, 1 loop each)\n",
      "186 ms ± 0 ns per loop (mean ± std. dev. of 1 run, 1 loop each)\n",
      "Working on year 2008 file\n"
     ]
    },
    {
     "name": "stderr",
     "output_type": "stream",
     "text": [
      "100%|██████████| 63715/63715 [00:00<00:00, 634358.66it/s]\n",
      "100%|██████████| 63715/63715 [00:00<00:00, 334952.38it/s]\n"
     ]
    },
    {
     "name": "stdout",
     "output_type": "stream",
     "text": [
      "106 ms ± 0 ns per loop (mean ± std. dev. of 1 run, 1 loop each)\n",
      "195 ms ± 0 ns per loop (mean ± std. dev. of 1 run, 1 loop each)\n",
      "Working on year 2009 file\n"
     ]
    },
    {
     "name": "stderr",
     "output_type": "stream",
     "text": [
      "100%|██████████| 65930/65930 [00:00<00:00, 612199.39it/s]\n",
      " 48%|████▊     | 31695/65930 [00:00<00:00, 316943.50it/s]"
     ]
    },
    {
     "name": "stdout",
     "output_type": "stream",
     "text": [
      "113 ms ± 0 ns per loop (mean ± std. dev. of 1 run, 1 loop each)\n"
     ]
    },
    {
     "name": "stderr",
     "output_type": "stream",
     "text": [
      "100%|██████████| 65930/65930 [00:00<00:00, 316541.64it/s]\n"
     ]
    },
    {
     "name": "stdout",
     "output_type": "stream",
     "text": [
      "213 ms ± 0 ns per loop (mean ± std. dev. of 1 run, 1 loop each)\n",
      "Working on year 2010 file\n"
     ]
    },
    {
     "name": "stderr",
     "output_type": "stream",
     "text": [
      "100%|██████████| 72616/72616 [00:00<00:00, 574739.79it/s]\n",
      " 38%|███▊      | 27422/72616 [00:00<00:00, 274219.61it/s]"
     ]
    },
    {
     "name": "stdout",
     "output_type": "stream",
     "text": [
      "132 ms ± 0 ns per loop (mean ± std. dev. of 1 run, 1 loop each)\n"
     ]
    },
    {
     "name": "stderr",
     "output_type": "stream",
     "text": [
      "100%|██████████| 72616/72616 [00:00<00:00, 289823.04it/s]\n"
     ]
    },
    {
     "name": "stdout",
     "output_type": "stream",
     "text": [
      "256 ms ± 0 ns per loop (mean ± std. dev. of 1 run, 1 loop each)\n",
      "Working on year 2011 file\n"
     ]
    },
    {
     "name": "stderr",
     "output_type": "stream",
     "text": [
      "100%|██████████| 78713/78713 [00:00<00:00, 630188.40it/s]\n",
      " 31%|███       | 24309/78713 [00:00<00:00, 243085.02it/s]"
     ]
    },
    {
     "name": "stdout",
     "output_type": "stream",
     "text": [
      "131 ms ± 0 ns per loop (mean ± std. dev. of 1 run, 1 loop each)\n"
     ]
    },
    {
     "name": "stderr",
     "output_type": "stream",
     "text": [
      "100%|██████████| 78713/78713 [00:00<00:00, 242462.39it/s]\n"
     ]
    },
    {
     "name": "stdout",
     "output_type": "stream",
     "text": [
      "330 ms ± 0 ns per loop (mean ± std. dev. of 1 run, 1 loop each)\n",
      "Working on year 2012 file\n"
     ]
    },
    {
     "name": "stderr",
     "output_type": "stream",
     "text": [
      "100%|██████████| 77792/77792 [00:00<00:00, 631838.50it/s]\n",
      " 40%|███▉      | 30968/77792 [00:00<00:00, 309676.60it/s]"
     ]
    },
    {
     "name": "stdout",
     "output_type": "stream",
     "text": [
      "128 ms ± 0 ns per loop (mean ± std. dev. of 1 run, 1 loop each)\n"
     ]
    },
    {
     "name": "stderr",
     "output_type": "stream",
     "text": [
      "100%|██████████| 77792/77792 [00:00<00:00, 315359.86it/s]\n"
     ]
    },
    {
     "name": "stdout",
     "output_type": "stream",
     "text": [
      "252 ms ± 0 ns per loop (mean ± std. dev. of 1 run, 1 loop each)\n",
      "Working on year 2013 file\n"
     ]
    },
    {
     "name": "stderr",
     "output_type": "stream",
     "text": [
      "100%|██████████| 75278/75278 [00:00<00:00, 654926.63it/s]\n",
      " 43%|████▎     | 32043/75278 [00:00<00:00, 320424.19it/s]"
     ]
    },
    {
     "name": "stdout",
     "output_type": "stream",
     "text": [
      "122 ms ± 0 ns per loop (mean ± std. dev. of 1 run, 1 loop each)\n"
     ]
    },
    {
     "name": "stderr",
     "output_type": "stream",
     "text": [
      "100%|██████████| 75278/75278 [00:00<00:00, 317408.07it/s]\n"
     ]
    },
    {
     "name": "stdout",
     "output_type": "stream",
     "text": [
      "243 ms ± 0 ns per loop (mean ± std. dev. of 1 run, 1 loop each)\n",
      "Working on year 2014 file\n"
     ]
    },
    {
     "name": "stderr",
     "output_type": "stream",
     "text": [
      "100%|██████████| 97608/97608 [00:00<00:00, 620899.63it/s]\n",
      " 30%|██▉       | 29073/97608 [00:00<00:00, 290724.04it/s]"
     ]
    },
    {
     "name": "stdout",
     "output_type": "stream",
     "text": [
      "167 ms ± 0 ns per loop (mean ± std. dev. of 1 run, 1 loop each)\n"
     ]
    },
    {
     "name": "stderr",
     "output_type": "stream",
     "text": [
      "100%|██████████| 97608/97608 [00:00<00:00, 303409.43it/s]\n"
     ]
    },
    {
     "name": "stdout",
     "output_type": "stream",
     "text": [
      "329 ms ± 0 ns per loop (mean ± std. dev. of 1 run, 1 loop each)\n",
      "Working on year 2015 file\n"
     ]
    },
    {
     "name": "stderr",
     "output_type": "stream",
     "text": [
      "100%|██████████| 112326/112326 [00:00<00:00, 503591.40it/s]\n",
      " 22%|██▏       | 24547/112326 [00:00<00:00, 245462.63it/s]"
     ]
    },
    {
     "name": "stdout",
     "output_type": "stream",
     "text": [
      "230 ms ± 0 ns per loop (mean ± std. dev. of 1 run, 1 loop each)\n"
     ]
    },
    {
     "name": "stderr",
     "output_type": "stream",
     "text": [
      "100%|██████████| 112326/112326 [00:00<00:00, 257658.67it/s]\n"
     ]
    },
    {
     "name": "stdout",
     "output_type": "stream",
     "text": [
      "444 ms ± 0 ns per loop (mean ± std. dev. of 1 run, 1 loop each)\n",
      "Working on year 2016 file\n"
     ]
    },
    {
     "name": "stderr",
     "output_type": "stream",
     "text": [
      "100%|██████████| 128744/128744 [00:00<00:00, 622462.82it/s]\n",
      " 47%|████▋     | 60233/128744 [00:00<00:00, 296199.51it/s]"
     ]
    },
    {
     "name": "stdout",
     "output_type": "stream",
     "text": [
      "215 ms ± 0 ns per loop (mean ± std. dev. of 1 run, 1 loop each)\n"
     ]
    },
    {
     "name": "stderr",
     "output_type": "stream",
     "text": [
      "100%|██████████| 128744/128744 [00:00<00:00, 304014.33it/s]\n"
     ]
    },
    {
     "name": "stdout",
     "output_type": "stream",
     "text": [
      "431 ms ± 0 ns per loop (mean ± std. dev. of 1 run, 1 loop each)\n",
      "Working on year 2017 file\n"
     ]
    },
    {
     "name": "stderr",
     "output_type": "stream",
     "text": [
      "100%|██████████| 139826/139826 [00:00<00:00, 573607.87it/s]\n",
      " 19%|█▉        | 26653/139826 [00:00<00:00, 266516.91it/s]"
     ]
    },
    {
     "name": "stdout",
     "output_type": "stream",
     "text": [
      "253 ms ± 0 ns per loop (mean ± std. dev. of 1 run, 1 loop each)\n"
     ]
    },
    {
     "name": "stderr",
     "output_type": "stream",
     "text": [
      "100%|██████████| 139826/139826 [00:00<00:00, 293176.27it/s]\n"
     ]
    },
    {
     "name": "stdout",
     "output_type": "stream",
     "text": [
      "487 ms ± 0 ns per loop (mean ± std. dev. of 1 run, 1 loop each)\n",
      "Working on year 2018 file\n"
     ]
    },
    {
     "name": "stderr",
     "output_type": "stream",
     "text": [
      "100%|██████████| 154754/154754 [00:00<00:00, 620040.16it/s]\n",
      " 18%|█▊        | 28526/154754 [00:00<00:00, 285259.59it/s]"
     ]
    },
    {
     "name": "stdout",
     "output_type": "stream",
     "text": [
      "259 ms ± 0 ns per loop (mean ± std. dev. of 1 run, 1 loop each)\n"
     ]
    },
    {
     "name": "stderr",
     "output_type": "stream",
     "text": [
      "100%|██████████| 154754/154754 [00:00<00:00, 293889.67it/s]\n"
     ]
    },
    {
     "name": "stdout",
     "output_type": "stream",
     "text": [
      "536 ms ± 0 ns per loop (mean ± std. dev. of 1 run, 1 loop each)\n",
      "Working on year 2019 file\n"
     ]
    },
    {
     "name": "stderr",
     "output_type": "stream",
     "text": [
      "100%|██████████| 150314/150314 [00:00<00:00, 620658.08it/s]\n",
      " 19%|█▉        | 28426/150314 [00:00<00:00, 284259.59it/s]"
     ]
    },
    {
     "name": "stdout",
     "output_type": "stream",
     "text": [
      "251 ms ± 0 ns per loop (mean ± std. dev. of 1 run, 1 loop each)\n"
     ]
    },
    {
     "name": "stderr",
     "output_type": "stream",
     "text": [
      "100%|██████████| 150314/150314 [00:00<00:00, 264211.20it/s]\n"
     ]
    },
    {
     "name": "stdout",
     "output_type": "stream",
     "text": [
      "580 ms ± 0 ns per loop (mean ± std. dev. of 1 run, 1 loop each)\n"
     ]
    }
   ],
   "source": [
    "for i in range(1999, 2020):\n",
    "    print (\"Working on year {} file\".format(i))\n",
    "    Letters = pd.read_csv(\"/Users/kamakshibansal/Moorfields/Letters/File_with_1_diagnosis32_symp/File_withDiagnosis{}.csv\".format(i))\n",
    "    Letters=Letters.dropna()\n",
    "\n",
    "    \n",
    "    b=Letters[\"Symptoms2\"].map(clean_sentences).str.lower()\n",
    "    b=b.values.tolist()\n",
    "    k=','.join(b)\n",
    "    z=k.split(\",\")\n",
    "\n",
    "    z1=list(dict.fromkeys(z))\n",
    "    wordFrequency = dict.fromkeys(z1,0 )\n",
    "    merge_dict= { **wordFrequency,**wordFrequency_name}\n",
    "\n",
    "    %timeit -n 1 -r 1 Letters['clean_sentence'] = Letters.Symptoms2.progress_map(clean_sentences)\n",
    "    %timeit -n 1 -r 1 Letters['Symptoms'] = Letters.clean_sentence.progress_map(lambda c: clean_mr_and_remove_stopwords(c, merge_dict))\n",
    "\n",
    "\n",
    "    Letters.to_csv(\"/Users/kamakshibansal/Moorfields/Letters/File_with_1_diagnosis32_symp_v1/Letters_new_{}.csv\".format(i))\n",
    "    "
   ]
  },
  {
   "cell_type": "code",
   "execution_count": 188,
   "metadata": {},
   "outputs": [],
   "source": [
    "Letters = pd.read_csv(\"/Users/kamakshibansal/Moorfields/Letters/File_with_1_diagnosis2/File_withDiagnosis1999 copy.csv\")\n",
    "Letters=Letters.dropna()"
   ]
  },
  {
   "cell_type": "code",
   "execution_count": 189,
   "metadata": {},
   "outputs": [
    {
     "data": {
      "text/html": [
       "<div>\n",
       "<style scoped>\n",
       "    .dataframe tbody tr th:only-of-type {\n",
       "        vertical-align: middle;\n",
       "    }\n",
       "\n",
       "    .dataframe tbody tr th {\n",
       "        vertical-align: top;\n",
       "    }\n",
       "\n",
       "    .dataframe thead th {\n",
       "        text-align: right;\n",
       "    }\n",
       "</style>\n",
       "<table border=\"1\" class=\"dataframe\">\n",
       "  <thead>\n",
       "    <tr style=\"text-align: right;\">\n",
       "      <th></th>\n",
       "      <th>Unnamed: 0</th>\n",
       "      <th>Symptoms2</th>\n",
       "      <th>Diagnosis2</th>\n",
       "    </tr>\n",
       "  </thead>\n",
       "  <tbody>\n",
       "    <tr>\n",
       "      <td>0</td>\n",
       "      <td>5</td>\n",
       "      <td>abrasion, corneal abrasion, corneal erosion, c...</td>\n",
       "      <td>corneal abrasion</td>\n",
       "    </tr>\n",
       "    <tr>\n",
       "      <td>1</td>\n",
       "      <td>7</td>\n",
       "      <td>ct, glaucoma, tic, us, visual fields</td>\n",
       "      <td>glaucoma</td>\n",
       "    </tr>\n",
       "    <tr>\n",
       "      <td>2</td>\n",
       "      <td>8</td>\n",
       "      <td>va, ache, cataract, ct, fundus, left, ocular, ...</td>\n",
       "      <td>cataract</td>\n",
       "    </tr>\n",
       "    <tr>\n",
       "      <td>3</td>\n",
       "      <td>15</td>\n",
       "      <td>va, cataract, ct, pet, retina, ring, surgery</td>\n",
       "      <td>cataract</td>\n",
       "    </tr>\n",
       "    <tr>\n",
       "      <td>4</td>\n",
       "      <td>25</td>\n",
       "      <td>ache, aphakic, ct, fundus, glaucoma, left, ocu...</td>\n",
       "      <td>glaucoma</td>\n",
       "    </tr>\n",
       "  </tbody>\n",
       "</table>\n",
       "</div>"
      ],
      "text/plain": [
       "   Unnamed: 0                                          Symptoms2  \\\n",
       "0           5  abrasion, corneal abrasion, corneal erosion, c...   \n",
       "1           7               ct, glaucoma, tic, us, visual fields   \n",
       "2           8  va, ache, cataract, ct, fundus, left, ocular, ...   \n",
       "3          15       va, cataract, ct, pet, retina, ring, surgery   \n",
       "4          25  ache, aphakic, ct, fundus, glaucoma, left, ocu...   \n",
       "\n",
       "         Diagnosis2  \n",
       "0  corneal abrasion  \n",
       "1          glaucoma  \n",
       "2          cataract  \n",
       "3          cataract  \n",
       "4          glaucoma  "
      ]
     },
     "execution_count": 189,
     "metadata": {},
     "output_type": "execute_result"
    }
   ],
   "source": [
    "Letters.head()"
   ]
  },
  {
   "cell_type": "code",
   "execution_count": 196,
   "metadata": {
    "scrolled": true
   },
   "outputs": [
    {
     "name": "stderr",
     "output_type": "stream",
     "text": [
      "\n",
      "\n",
      "\n",
      "\n",
      "\n",
      "\n",
      "\n",
      "\n",
      "\n",
      "\n",
      "\n",
      "\n",
      "\n",
      "\n",
      "\n",
      "100%|██████████| 5/5 [00:00<00:00, 10180.35it/s]A\u001b[A\u001b[A\u001b[A\u001b[A\u001b[A\u001b[A\u001b[A\u001b[A\u001b[A\u001b[A\u001b[A\n",
      "\n",
      "\n",
      "\n",
      "\n",
      "\n",
      "\n",
      "\n",
      "\n",
      "\n",
      "\n",
      "\n",
      "\n",
      "\n",
      "\n",
      "\n",
      "100%|██████████| 5/5 [00:00<00:00, 4006.02it/s][A\u001b[A\u001b[A\u001b[A\u001b[A\u001b[A\u001b[A\u001b[A\u001b[A\u001b[A\u001b[A\u001b[A"
     ]
    },
    {
     "name": "stdout",
     "output_type": "stream",
     "text": [
      "4.46 ms ± 0 ns per loop (mean ± std. dev. of 1 run, 1 loop each)\n",
      "['abrasion', 'corneal abrasion', 'corneal erosion', 'ct', 'left', 'recurrent', 'us']\n",
      "['abrasion', 'corneal erosion', 'ct', 'left', 'recurrent', 'us']\n",
      "abrasion,corneal erosion,ct,left,recurrent,us\n",
      "['ct', 'glaucoma', 'tic', 'us', 'visual fields']\n",
      "['ct', 'tic', 'us', 'visual fields']\n",
      "ct,tic,us,visual fields\n",
      "['va', 'ache', 'cataract', 'ct', 'fundus', 'left', 'ocular', 'oval', 'retina', 'us', 'visual acuity']\n",
      "['va', 'ache', 'ct', 'fundus', 'left', 'ocular', 'oval', 'retina', 'us', 'visual acuity']\n",
      "va,ache,ct,fundus,left,ocular,oval,retina,us,visual acuity\n",
      "['va', 'cataract', 'ct', 'pet', 'retina', 'ring', 'surgery']\n",
      "['va', 'ct', 'pet', 'retina', 'ring', 'surgery']\n",
      "va,ct,pet,retina,ring,surgery\n",
      "['ache', 'aphakic', 'ct', 'fundus', 'glaucoma', 'left', 'ocular', 'retina', 'right', 'us', 'visual acuity', 'present']\n",
      "['ache', 'aphakic', 'ct', 'fundus', 'left', 'ocular', 'retina', 'right', 'us', 'visual acuity', 'present']\n",
      "ache,aphakic,ct,fundus,left,ocular,retina,right,us,visual acuity,present\n",
      "7.54 ms ± 0 ns per loop (mean ± std. dev. of 1 run, 1 loop each)\n"
     ]
    },
    {
     "name": "stderr",
     "output_type": "stream",
     "text": [
      "\n"
     ]
    }
   ],
   "source": [
    "b=Letters[\"Symptoms2\"].map(clean_sentences).str.lower()\n",
    "b=b.values.tolist()\n",
    "k=','.join(b)\n",
    "z=k.split(\",\")\n",
    "\n",
    "z1=list(dict.fromkeys(z))\n",
    "wordFrequency = dict.fromkeys(z1,0 )\n",
    "merge_dict= { **wordFrequency,**wordFrequency_name}\n",
    "\n",
    "%timeit -n 1 -r 1 Letters['clean_sentence'] = Letters.Symptoms2.progress_map(clean_sentences)\n",
    "%timeit -n 1 -r 1 Letters['Symptoms'] = Letters.clean_sentence.progress_map(lambda c: clean_mr_and_remove_stopwords(c, merge_dict))\n",
    "\n"
   ]
  },
  {
   "cell_type": "code",
   "execution_count": 192,
   "metadata": {},
   "outputs": [],
   "source": [
    "query= Letters[\"Symptoms2\"].iloc[0]"
   ]
  },
  {
   "cell_type": "code",
   "execution_count": 141,
   "metadata": {},
   "outputs": [],
   "source": [
    "b=b.replace(', ', ',')"
   ]
  },
  {
   "cell_type": "code",
   "execution_count": 186,
   "metadata": {
    "scrolled": true
   },
   "outputs": [
    {
     "data": {
      "text/plain": [
       "{'abrasion': 0,\n",
       " 'corneal abrasion': 0,\n",
       " 'corneal erosion': 0,\n",
       " 'ct': 0,\n",
       " 'left': 0,\n",
       " 'recurrent': 0,\n",
       " 'us': 0,\n",
       " 'glaucoma': 0,\n",
       " 'tic': 0,\n",
       " 'visual fields': 0,\n",
       " 'va': 0,\n",
       " 'ache': 0,\n",
       " 'cataract': 0,\n",
       " 'fundus': 0,\n",
       " 'ocular': 0,\n",
       " 'oval': 0,\n",
       " 'retina': 0,\n",
       " 'visual acuity': 0,\n",
       " 'pet': 0,\n",
       " 'ring': 0,\n",
       " 'surgery': 0,\n",
       " 'aphakic': 0,\n",
       " 'right': 0,\n",
       " 'present': 0}"
      ]
     },
     "execution_count": 186,
     "metadata": {},
     "output_type": "execute_result"
    }
   ],
   "source": [
    "wordFrequency"
   ]
  },
  {
   "cell_type": "code",
   "execution_count": null,
   "metadata": {},
   "outputs": [],
   "source": []
  },
  {
   "cell_type": "code",
   "execution_count": 185,
   "metadata": {
    "scrolled": true
   },
   "outputs": [
    {
     "data": {
      "text/plain": [
       "{'abrasion': 0,\n",
       " 'corneal abrasion': 1,\n",
       " 'corneal erosion': 0,\n",
       " 'ct': 0,\n",
       " 'left': 0,\n",
       " 'recurrent': 0,\n",
       " 'us': 0,\n",
       " 'glaucoma': 1,\n",
       " 'tic': 0,\n",
       " 'visual fields': 0,\n",
       " 'va': 0,\n",
       " 'ache': 0,\n",
       " 'cataract': 1,\n",
       " 'fundus': 0,\n",
       " 'ocular': 0,\n",
       " 'oval': 0,\n",
       " 'retina': 0,\n",
       " 'visual acuity': 0,\n",
       " 'pet': 0,\n",
       " 'ring': 0,\n",
       " 'surgery': 0,\n",
       " 'aphakic': 0,\n",
       " 'right': 0,\n",
       " 'present': 0,\n",
       " 'blepharitis': 1,\n",
       " 'dry eyes': 1,\n",
       " 'acute anterior uveitis': 1,\n",
       " 'conjunctivitis': 1,\n",
       " 'posterior vitreous detachment': 1,\n",
       " 'chalazion': 1,\n",
       " 'contact lens associated keratitis': 1,\n",
       " 'sub conjunctival haemorrhage': 1}"
      ]
     },
     "execution_count": 185,
     "metadata": {},
     "output_type": "execute_result"
    }
   ],
   "source": [
    "merge_dict"
   ]
  },
  {
   "cell_type": "code",
   "execution_count": 34,
   "metadata": {},
   "outputs": [],
   "source": [
    "j=Letters[\"Symptoms2\"].iloc[113]"
   ]
  },
  {
   "cell_type": "code",
   "execution_count": 36,
   "metadata": {},
   "outputs": [
    {
     "data": {
      "text/plain": [
       "'va, cataract, ct, flat retina, fundus, left, ocular, oval, retina, ring, us, visual acuity, vitreous'"
      ]
     },
     "execution_count": 36,
     "metadata": {},
     "output_type": "execute_result"
    }
   ],
   "source": [
    "j"
   ]
  },
  {
   "cell_type": "code",
   "execution_count": 37,
   "metadata": {},
   "outputs": [
    {
     "ename": "KeyError",
     "evalue": "'va'",
     "output_type": "error",
     "traceback": [
      "\u001b[0;31m---------------------------------------------------------------------------\u001b[0m",
      "\u001b[0;31mKeyError\u001b[0m                                  Traceback (most recent call last)",
      "\u001b[0;32m<ipython-input-37-c3ac082af256>\u001b[0m in \u001b[0;36m<module>\u001b[0;34m\u001b[0m\n\u001b[0;32m----> 1\u001b[0;31m \u001b[0mclean_mr_and_remove_stopwords\u001b[0m\u001b[0;34m(\u001b[0m\u001b[0mj\u001b[0m\u001b[0;34m,\u001b[0m \u001b[0mmerge_dict\u001b[0m\u001b[0;34m)\u001b[0m\u001b[0;34m\u001b[0m\u001b[0;34m\u001b[0m\u001b[0m\n\u001b[0m",
      "\u001b[0;32m<ipython-input-25-19c75ba072b0>\u001b[0m in \u001b[0;36mclean_mr_and_remove_stopwords\u001b[0;34m(query, merge_dict)\u001b[0m\n\u001b[1;32m      8\u001b[0m \u001b[0;32mdef\u001b[0m \u001b[0mclean_mr_and_remove_stopwords\u001b[0m\u001b[0;34m(\u001b[0m\u001b[0mquery\u001b[0m\u001b[0;34m,\u001b[0m \u001b[0mmerge_dict\u001b[0m\u001b[0;34m)\u001b[0m\u001b[0;34m:\u001b[0m\u001b[0;34m\u001b[0m\u001b[0;34m\u001b[0m\u001b[0m\n\u001b[1;32m      9\u001b[0m     \u001b[0mresult2\u001b[0m \u001b[0;34m=\u001b[0m \u001b[0mquery\u001b[0m\u001b[0;34m.\u001b[0m\u001b[0msplit\u001b[0m\u001b[0;34m(\u001b[0m\u001b[0;34m\",\"\u001b[0m\u001b[0;34m)\u001b[0m\u001b[0;34m\u001b[0m\u001b[0;34m\u001b[0m\u001b[0m\n\u001b[0;32m---> 10\u001b[0;31m     \u001b[0mresultwords\u001b[0m  \u001b[0;34m=\u001b[0m \u001b[0;34m[\u001b[0m\u001b[0mword\u001b[0m \u001b[0;32mfor\u001b[0m \u001b[0mword\u001b[0m \u001b[0;32min\u001b[0m \u001b[0mresult2\u001b[0m \u001b[0;32mif\u001b[0m \u001b[0mmerge_dict\u001b[0m\u001b[0;34m[\u001b[0m\u001b[0mword\u001b[0m\u001b[0;34m]\u001b[0m\u001b[0;34m==\u001b[0m\u001b[0;36m0\u001b[0m\u001b[0;34m]\u001b[0m\u001b[0;34m\u001b[0m\u001b[0;34m\u001b[0m\u001b[0m\n\u001b[0m\u001b[1;32m     11\u001b[0m     \u001b[0mfinal\u001b[0m\u001b[0;34m=\u001b[0m \u001b[0;34m' '\u001b[0m\u001b[0;34m.\u001b[0m\u001b[0mjoin\u001b[0m\u001b[0;34m(\u001b[0m\u001b[0mresultwords\u001b[0m\u001b[0;34m)\u001b[0m\u001b[0;34m\u001b[0m\u001b[0;34m\u001b[0m\u001b[0m\n\u001b[1;32m     12\u001b[0m \u001b[0;31m#     print (final)\u001b[0m\u001b[0;34m\u001b[0m\u001b[0;34m\u001b[0m\u001b[0;34m\u001b[0m\u001b[0m\n",
      "\u001b[0;32m<ipython-input-25-19c75ba072b0>\u001b[0m in \u001b[0;36m<listcomp>\u001b[0;34m(.0)\u001b[0m\n\u001b[1;32m      8\u001b[0m \u001b[0;32mdef\u001b[0m \u001b[0mclean_mr_and_remove_stopwords\u001b[0m\u001b[0;34m(\u001b[0m\u001b[0mquery\u001b[0m\u001b[0;34m,\u001b[0m \u001b[0mmerge_dict\u001b[0m\u001b[0;34m)\u001b[0m\u001b[0;34m:\u001b[0m\u001b[0;34m\u001b[0m\u001b[0;34m\u001b[0m\u001b[0m\n\u001b[1;32m      9\u001b[0m     \u001b[0mresult2\u001b[0m \u001b[0;34m=\u001b[0m \u001b[0mquery\u001b[0m\u001b[0;34m.\u001b[0m\u001b[0msplit\u001b[0m\u001b[0;34m(\u001b[0m\u001b[0;34m\",\"\u001b[0m\u001b[0;34m)\u001b[0m\u001b[0;34m\u001b[0m\u001b[0;34m\u001b[0m\u001b[0m\n\u001b[0;32m---> 10\u001b[0;31m     \u001b[0mresultwords\u001b[0m  \u001b[0;34m=\u001b[0m \u001b[0;34m[\u001b[0m\u001b[0mword\u001b[0m \u001b[0;32mfor\u001b[0m \u001b[0mword\u001b[0m \u001b[0;32min\u001b[0m \u001b[0mresult2\u001b[0m \u001b[0;32mif\u001b[0m \u001b[0mmerge_dict\u001b[0m\u001b[0;34m[\u001b[0m\u001b[0mword\u001b[0m\u001b[0;34m]\u001b[0m\u001b[0;34m==\u001b[0m\u001b[0;36m0\u001b[0m\u001b[0;34m]\u001b[0m\u001b[0;34m\u001b[0m\u001b[0;34m\u001b[0m\u001b[0m\n\u001b[0m\u001b[1;32m     11\u001b[0m     \u001b[0mfinal\u001b[0m\u001b[0;34m=\u001b[0m \u001b[0;34m' '\u001b[0m\u001b[0;34m.\u001b[0m\u001b[0mjoin\u001b[0m\u001b[0;34m(\u001b[0m\u001b[0mresultwords\u001b[0m\u001b[0;34m)\u001b[0m\u001b[0;34m\u001b[0m\u001b[0;34m\u001b[0m\u001b[0m\n\u001b[1;32m     12\u001b[0m \u001b[0;31m#     print (final)\u001b[0m\u001b[0;34m\u001b[0m\u001b[0;34m\u001b[0m\u001b[0;34m\u001b[0m\u001b[0m\n",
      "\u001b[0;31mKeyError\u001b[0m: 'va'"
     ]
    }
   ],
   "source": [
    "clean_mr_and_remove_stopwords(j, merge_dict)"
   ]
  },
  {
   "cell_type": "code",
   "execution_count": 197,
   "metadata": {},
   "outputs": [
    {
     "data": {
      "text/html": [
       "<div>\n",
       "<style scoped>\n",
       "    .dataframe tbody tr th:only-of-type {\n",
       "        vertical-align: middle;\n",
       "    }\n",
       "\n",
       "    .dataframe tbody tr th {\n",
       "        vertical-align: top;\n",
       "    }\n",
       "\n",
       "    .dataframe thead th {\n",
       "        text-align: right;\n",
       "    }\n",
       "</style>\n",
       "<table border=\"1\" class=\"dataframe\">\n",
       "  <thead>\n",
       "    <tr style=\"text-align: right;\">\n",
       "      <th></th>\n",
       "      <th>Unnamed: 0</th>\n",
       "      <th>Symptoms2</th>\n",
       "      <th>Diagnosis2</th>\n",
       "      <th>clean_sentence</th>\n",
       "      <th>Symptoms</th>\n",
       "    </tr>\n",
       "  </thead>\n",
       "  <tbody>\n",
       "    <tr>\n",
       "      <td>0</td>\n",
       "      <td>5</td>\n",
       "      <td>abrasion, corneal abrasion, corneal erosion, c...</td>\n",
       "      <td>corneal abrasion</td>\n",
       "      <td>abrasion,corneal abrasion,corneal erosion,ct,l...</td>\n",
       "      <td>abrasion,corneal erosion,ct,left,recurrent,us</td>\n",
       "    </tr>\n",
       "    <tr>\n",
       "      <td>1</td>\n",
       "      <td>7</td>\n",
       "      <td>ct, glaucoma, tic, us, visual fields</td>\n",
       "      <td>glaucoma</td>\n",
       "      <td>ct,glaucoma,tic,us,visual fields</td>\n",
       "      <td>ct,tic,us,visual fields</td>\n",
       "    </tr>\n",
       "    <tr>\n",
       "      <td>2</td>\n",
       "      <td>8</td>\n",
       "      <td>va, ache, cataract, ct, fundus, left, ocular, ...</td>\n",
       "      <td>cataract</td>\n",
       "      <td>va,ache,cataract,ct,fundus,left,ocular,oval,re...</td>\n",
       "      <td>va,ache,ct,fundus,left,ocular,oval,retina,us,v...</td>\n",
       "    </tr>\n",
       "    <tr>\n",
       "      <td>3</td>\n",
       "      <td>15</td>\n",
       "      <td>va, cataract, ct, pet, retina, ring, surgery</td>\n",
       "      <td>cataract</td>\n",
       "      <td>va,cataract,ct,pet,retina,ring,surgery</td>\n",
       "      <td>va,ct,pet,retina,ring,surgery</td>\n",
       "    </tr>\n",
       "    <tr>\n",
       "      <td>4</td>\n",
       "      <td>25</td>\n",
       "      <td>ache, aphakic, ct, fundus, glaucoma, left, ocu...</td>\n",
       "      <td>glaucoma</td>\n",
       "      <td>ache,aphakic,ct,fundus,glaucoma,left,ocular,re...</td>\n",
       "      <td>ache,aphakic,ct,fundus,left,ocular,retina,righ...</td>\n",
       "    </tr>\n",
       "  </tbody>\n",
       "</table>\n",
       "</div>"
      ],
      "text/plain": [
       "   Unnamed: 0                                          Symptoms2  \\\n",
       "0           5  abrasion, corneal abrasion, corneal erosion, c...   \n",
       "1           7               ct, glaucoma, tic, us, visual fields   \n",
       "2           8  va, ache, cataract, ct, fundus, left, ocular, ...   \n",
       "3          15       va, cataract, ct, pet, retina, ring, surgery   \n",
       "4          25  ache, aphakic, ct, fundus, glaucoma, left, ocu...   \n",
       "\n",
       "         Diagnosis2                                     clean_sentence  \\\n",
       "0  corneal abrasion  abrasion,corneal abrasion,corneal erosion,ct,l...   \n",
       "1          glaucoma                   ct,glaucoma,tic,us,visual fields   \n",
       "2          cataract  va,ache,cataract,ct,fundus,left,ocular,oval,re...   \n",
       "3          cataract             va,cataract,ct,pet,retina,ring,surgery   \n",
       "4          glaucoma  ache,aphakic,ct,fundus,glaucoma,left,ocular,re...   \n",
       "\n",
       "                                            Symptoms  \n",
       "0      abrasion,corneal erosion,ct,left,recurrent,us  \n",
       "1                            ct,tic,us,visual fields  \n",
       "2  va,ache,ct,fundus,left,ocular,oval,retina,us,v...  \n",
       "3                      va,ct,pet,retina,ring,surgery  \n",
       "4  ache,aphakic,ct,fundus,left,ocular,retina,righ...  "
      ]
     },
     "execution_count": 197,
     "metadata": {},
     "output_type": "execute_result"
    }
   ],
   "source": [
    "Letters.head()"
   ]
  },
  {
   "cell_type": "code",
   "execution_count": 23,
   "metadata": {},
   "outputs": [
    {
     "data": {
      "text/plain": [
       "{'abrasion': 0,\n",
       " ' corneal abrasion': 0,\n",
       " ' corneal erosion': 0,\n",
       " ' ct': 0,\n",
       " ' left': 0,\n",
       " ' recurrent': 0,\n",
       " ' us ct': 0,\n",
       " ' glaucoma': 0,\n",
       " ' tic': 0,\n",
       " ' us': 0,\n",
       " ' visual fields va': 0,\n",
       " ' ache': 0,\n",
       " ' cataract': 0,\n",
       " ' fundus': 0,\n",
       " ' ocular': 0,\n",
       " ' oval': 0,\n",
       " ' retina': 0,\n",
       " ' visual acuity va': 0,\n",
       " ' pet': 0,\n",
       " ' ring': 0,\n",
       " ' surgery ache': 0,\n",
       " ' aphakic': 0,\n",
       " ' right': 0,\n",
       " ' visual acuity': 0,\n",
       " ' present cataract': 0,\n",
       " ' macula': 0,\n",
       " ' macular': 0,\n",
       " ' surgery': 0,\n",
       " ' visual acuity alp': 0,\n",
       " ' us va': 0,\n",
       " ' central': 0,\n",
       " ' central retinal vein occlusion': 0,\n",
       " ' us ache': 0,\n",
       " ' amblyopia': 0,\n",
       " ' retinal detachment': 0,\n",
       " ' rhegmatogenous': 0,\n",
       " ' visual acuity ache': 0,\n",
       " ' visual acuity amblyopia': 0,\n",
       " ' dilated': 0,\n",
       " ' flashes': 0,\n",
       " ' floater': 0,\n",
       " ' floaters': 0,\n",
       " ' trauma': 0,\n",
       " ' present ache': 0,\n",
       " ' pinhole': 0,\n",
       " ' abnormal': 0,\n",
       " ' anterior': 0,\n",
       " ' refraction': 0,\n",
       " ' removed va': 0,\n",
       " ' flare': 0,\n",
       " ' vitreous': 0,\n",
       " ' vitreous haemorrhage alp': 0,\n",
       " ' inflammation': 0,\n",
       " ' nystagmus': 0,\n",
       " ' opacity': 0,\n",
       " ' posterior vitreous detachment': 0,\n",
       " ' vitreous bilateral': 0,\n",
       " ' diabetic retinopathy': 0,\n",
       " ' lens opacity': 0,\n",
       " ' myopic': 0,\n",
       " ' present central': 0,\n",
       " ' central scotoma': 0,\n",
       " ' disturbance': 0,\n",
       " ' present bilateral': 0,\n",
       " ' visual acuity ct': 0,\n",
       " ' peripheral': 0,\n",
       " ' scarring': 0,\n",
       " ' present ct': 0,\n",
       " ' vitreous va': 0,\n",
       " ' yag capsulotomy va': 0,\n",
       " ' sharp': 0,\n",
       " ' surgery va': 0,\n",
       " ' present va': 0,\n",
       " ' flat retina': 0,\n",
       " ' bilateral': 0,\n",
       " ' refraction va': 0,\n",
       " ' tic va': 0,\n",
       " ' us anterior': 0,\n",
       " ' uveitis': 0,\n",
       " ' ring va': 0,\n",
       " ' vitreous haemorrhage cataract': 0,\n",
       " ' right cataract': 0,\n",
       " ' choroidal': 0,\n",
       " ' complex': 0,\n",
       " ' painful': 0,\n",
       " ' rns': 0,\n",
       " ' tic bilateral': 0,\n",
       " ' conjunctivitis': 0,\n",
       " ' etinitis': 0,\n",
       " ' retinitis pigmentosa': 0,\n",
       " ' us cataract': 0,\n",
       " ' right va': 0,\n",
       " ' vitreous haemorrhage ache': 0,\n",
       " ' visual acuity cataract': 0,\n",
       " ' chorioretinal': 0,\n",
       " ' gradual': 0,\n",
       " ' yag capsulotomy': 0,\n",
       " ' retina va': 0,\n",
       " ' epiretinal membranes': 0,\n",
       " ' diplopia': 0,\n",
       " ' sand': 0,\n",
       " ' vertical': 0,\n",
       " ' ring ache': 0,\n",
       " ' gpa': 0,\n",
       " ' acute': 0,\n",
       " ' us bilateral': 0,\n",
       " ' blurred': 0,\n",
       " ' visual fields': 0,\n",
       " ' dry': 0,\n",
       " ' macular oedema': 0,\n",
       " ' oedema': 0,\n",
       " ' vitreous haemorrhage ct': 0,\n",
       " ' flashing lights': 0,\n",
       " ' visual acuity abnormal': 0,\n",
       " ' contact lens': 0,\n",
       " ' inflammed': 0,\n",
       " ' irregular': 0,\n",
       " ' redness': 0,\n",
       " ' tonometry cataract': 0,\n",
       " ' vitreous haemorrhage va': 0,\n",
       " ' retina is flat': 0,\n",
       " ' distortion': 0,\n",
       " ' loss of vision': 0,\n",
       " ' neovascular': 0,\n",
       " ' neovascularisation': 0,\n",
       " ' surgery cataract': 0,\n",
       " ' cyst': 0,\n",
       " ' fixed': 0,\n",
       " ' rapd': 0,\n",
       " ' tic cataract': 0,\n",
       " ' present abnormal': 0,\n",
       " ' red reflex': 0,\n",
       " ' hearing': 0,\n",
       " ' blepharitis': 0,\n",
       " ' reduced vision': 0,\n",
       " ' squint': 0,\n",
       " ' refraction ct': 0,\n",
       " ' removed cataract': 0,\n",
       " ' distorted': 0,\n",
       " ' distorted vision': 0,\n",
       " ' temporal': 0,\n",
       " ' gonioscopy': 0,\n",
       " ' sudden loss of vision': 0,\n",
       " ' ultrasound va': 0,\n",
       " ' trauma cataract': 0,\n",
       " ' intermittent': 0,\n",
       " ' white spot ache': 0,\n",
       " ' surgery ct': 0,\n",
       " ' sand va': 0,\n",
       " ' vitreous cataract': 0,\n",
       " ' visual loss': 0,\n",
       " ' complain va': 0,\n",
       " ' presented': 0,\n",
       " ' ultrasound': 0,\n",
       " ' uveitis va': 0,\n",
       " ' injected': 0,\n",
       " ' fundoscopy': 0,\n",
       " ' visual field loss va': 0,\n",
       " ' visual acuity glaucoma': 0,\n",
       " ' vitreous ct': 0,\n",
       " ' primary va': 0,\n",
       " ' astigmatis': 0,\n",
       " ' astigmatism': 0,\n",
       " ' tsh': 0,\n",
       " ' neovascular membrane': 0,\n",
       " ' surgery glaucoma': 0,\n",
       " ' itching': 0,\n",
       " ' foreign body': 0,\n",
       " ' headache': 0,\n",
       " ' present alp': 0,\n",
       " ' left va': 0,\n",
       " ' infusion cataract': 0,\n",
       " ' visual distortion va': 0,\n",
       " ' angina': 0,\n",
       " ' esr': 0,\n",
       " ' myalgia': 0,\n",
       " ' reduced vision in the left eye': 0,\n",
       " ' screen': 0,\n",
       " ' temporal arteries': 0,\n",
       " ' visual disturbance': 0,\n",
       " ' us dry': 0,\n",
       " ' dry eye': 0,\n",
       " ' us central': 0,\n",
       " ' us glaucoma': 0,\n",
       " ' visual fields glaucoma': 0,\n",
       " ' retinal hole': 0,\n",
       " ' polymyalgia rheumatica': 0,\n",
       " ' hyperopic': 0,\n",
       " ' ocular hypertension': 0,\n",
       " ' visual fields glaucoma va': 0,\n",
       " ' right glaucoma': 0,\n",
       " ' ocular va': 0,\n",
       " ' local anaesthetic va': 0,\n",
       " ' visual acuity glaucoma floater': 0,\n",
       " ' vitreous alp': 0,\n",
       " ' left ct': 0,\n",
       " ' anxiety': 0,\n",
       " ' drusen': 0,\n",
       " ' open angles': 0,\n",
       " ' visual fields alp': 0,\n",
       " ' us age related macular degeneration': 0,\n",
       " ' alp': 0,\n",
       " ' us anxiety': 0,\n",
       " ' dry eyes': 0,\n",
       " ' rosacea contact lens': 0,\n",
       " ' rns va': 0,\n",
       " ' asthma': 0,\n",
       " ' choroidal neovascular membrane': 0,\n",
       " ' diabetes': 0,\n",
       " ' anterior chamber': 0,\n",
       " ' epithelial': 0,\n",
       " ' stinging': 0,\n",
       " ' surgery glaucoma va': 0,\n",
       " ' visual loss arcus': 0,\n",
       " ' pupillary defect': 0,\n",
       " ' blurred vision': 0,\n",
       " ' visual fields cataract': 0,\n",
       " ' visual fields abnormal': 0,\n",
       " ' suspicious discs': 0,\n",
       " ' visual fields diabetic retinopathy': 0,\n",
       " ' physiological cupping': 0,\n",
       " ' visual fields ct': 0,\n",
       " ' visual fields floater': 0,\n",
       " ' vitreous chalazion': 0,\n",
       " ' eye lid': 0,\n",
       " ' lump': 0,\n",
       " ' mri': 0,\n",
       " ' photopsia': 0,\n",
       " ' vitreous conjunctivitis': 0,\n",
       " ' right bilateral': 0,\n",
       " ' ocular bilateral': 0,\n",
       " ' present conjunctivitis': 0,\n",
       " ' tic ct': 0,\n",
       " ' us allergic conjunctivitis': 0,\n",
       " ' epiphora': 0,\n",
       " ' irritable': 0,\n",
       " ' irritable eyes': 0,\n",
       " ' complain bilateral': 0,\n",
       " ' glaucoma anterior': 0,\n",
       " ' complaining': 0,\n",
       " ' complain cataract': 0,\n",
       " ' retina anterior': 0,\n",
       " ' uveitis glaucoma': 0,\n",
       " ' surgery central': 0,\n",
       " ' refraction central': 0,\n",
       " ' iritis': 0,\n",
       " ' present glaucoma': 0,\n",
       " ' spasm': 0,\n",
       " ' vertical glaucoma': 0,\n",
       " ' vertical glaucoma cataract': 0,\n",
       " ' visual acuity bilateral': 0,\n",
       " ' blood tests alp': 0,\n",
       " ' surgery blepharitis': 0,\n",
       " ' surgery bilateral': 0,\n",
       " ' bilateral dry': 0,\n",
       " ' dry eyes bilateral': 0,\n",
       " ' sand cataract': 0,\n",
       " ' vitreous haemorrhage glaucoma': 0,\n",
       " ' tic diabetic retinopathy': 0,\n",
       " ' right ct': 0,\n",
       " ' tear film': 0,\n",
       " ' vitreous dendritic': 0,\n",
       " ' ulcer va': 0,\n",
       " ' vitreous haemorrhage anisometropia': 0,\n",
       " ' vitreous abnormal': 0,\n",
       " ' allergic conjunctivitis': 0,\n",
       " ' keratitis': 0,\n",
       " ' present anxiety': 0,\n",
       " ' rash': 0,\n",
       " ' progressive': 0,\n",
       " ' vitreous anxiety': 0,\n",
       " ' us amblyopia': 0,\n",
       " ' strabismus': 0,\n",
       " ' primary ct': 0,\n",
       " ' us anisometropia': 0,\n",
       " ' refraction anisometropia': 0,\n",
       " ' complaint': 0,\n",
       " ' metamorphopsia': 0,\n",
       " ' primary': 0,\n",
       " ' asteroid hyalosis': 0,\n",
       " ' migraine': 0,\n",
       " ' discomfort': 0,\n",
       " ' complain flashing lights': 0,\n",
       " ' ct scan': 0,\n",
       " ' binocular': 0,\n",
       " ' refraction glaucoma': 0,\n",
       " ' sand bilateral': 0,\n",
       " ' us glaucoma bilateral': 0,\n",
       " ' ring anterior': 0,\n",
       " ' vitreous haemorrhage allergic conjunctivitis': 0,\n",
       " ' atopy': 0,\n",
       " ' vitreous haemorrhage bilateral': 0,\n",
       " ' visual fields bilateral': 0,\n",
       " ' ptosis': 0,\n",
       " ' glaucoma alp': 0,\n",
       " ' sand anxiety': 0,\n",
       " ' present allergic conjunctivitis': 0,\n",
       " ' ct cataract': 0,\n",
       " ' us allergy': 0,\n",
       " ' tic contact lens': 0,\n",
       " ' glaucoma ct': 0,\n",
       " ' us glaucoma anxiety': 0,\n",
       " ' painful eye': 0,\n",
       " ' presbyopia': 0,\n",
       " ' blood glucose': 0,\n",
       " ' glucose': 0,\n",
       " ' swollen': 0,\n",
       " ' yag capsulotomy glaucoma': 0,\n",
       " ' vitreous haemorrhage': 0,\n",
       " ' visual acuity conjunctivitis': 0,\n",
       " ' unilateral': 0,\n",
       " ' superonasal': 0,\n",
       " ' red eye': 0,\n",
       " ' complain amblyopia': 0,\n",
       " ' complain left': 0,\n",
       " ' endophthalmitis': 0,\n",
       " ' uveitis ache': 0,\n",
       " ' eye injury ache': 0,\n",
       " ' peripheral iridotomy': 0,\n",
       " ' vision has deteriorated ache': 0,\n",
       " ' us blepharitis': 0,\n",
       " ' ct va': 0,\n",
       " ' tic acute': 0,\n",
       " ' chalazion': 0,\n",
       " ' inflamed': 0,\n",
       " ' removed': 0,\n",
       " ' rns glaucoma': 0,\n",
       " ' sand abnormal': 0,\n",
       " ' fluorescein': 0,\n",
       " ' fluorescein angiography': 0,\n",
       " ' visual acuity anterior': 0,\n",
       " ' refraction cataract': 0,\n",
       " ' us discomfort': 0,\n",
       " ' left glaucoma': 0,\n",
       " ' us acute': 0,\n",
       " ' removed glaucoma': 0,\n",
       " ' socket': 0,\n",
       " ' soreness': 0,\n",
       " ' young flare': 0,\n",
       " ' glaucoma va': 0,\n",
       " ' surgery age related macular degeneration': 0,\n",
       " ' us glaucoma alp': 0,\n",
       " ' miosis': 0,\n",
       " ' colour': 0,\n",
       " ' vitreous glaucoma': 0,\n",
       " ' complain': 0,\n",
       " ' systemically unwell': 0,\n",
       " ' tic anxiety': 0,\n",
       " ' uveitis anxiety': 0,\n",
       " ' retina alp': 0,\n",
       " ' myopia': 0,\n",
       " ' sinus': 0,\n",
       " ' sinusitis': 0,\n",
       " ' horizontal': 0,\n",
       " ' ultrasound glaucoma va': 0,\n",
       " ' right ache': 0,\n",
       " ' vitreous anterior': 0,\n",
       " ' periphery': 0,\n",
       " ' flat retinae': 0,\n",
       " ' pinguecula': 0,\n",
       " ' retina ache': 0,\n",
       " ' uveitis cataract': 0,\n",
       " ' glare': 0,\n",
       " ' young va': 0,\n",
       " ' retina is flat conjunctivitis': 0,\n",
       " ' ultrasound ache': 0,\n",
       " ' difficulty reading': 0,\n",
       " ' visual acuity flat retina': 0,\n",
       " ' present flat retina': 0,\n",
       " ' mania': 0,\n",
       " ' retinal detachment va': 0,\n",
       " ' removed ache': 0,\n",
       " ' present choroidal': 0,\n",
       " ' us floater': 0,\n",
       " ' surgery choroidal': 0,\n",
       " ' yag capsulotomy cataract': 0,\n",
       " ' antibiotics': 0,\n",
       " ' age related macular degeneration': 0,\n",
       " ' surgery abnormal': 0,\n",
       " ' diffuse': 0,\n",
       " ' leakage': 0,\n",
       " ' rosacea': 0,\n",
       " ' red eyes va': 0,\n",
       " ' allergy': 0,\n",
       " ' red eyes': 0,\n",
       " ' right alp': 0,\n",
       " ' us alp': 0,\n",
       " ' hypermetropia': 0,\n",
       " ' complain ct': 0,\n",
       " ' us aphakic': 0,\n",
       " ' ocular hypertension conjunctivitis': 0,\n",
       " ' ocular ct': 0,\n",
       " ' deteriorating vision': 0,\n",
       " ' kp': 0,\n",
       " ' us confusion': 0,\n",
       " ' responsive': 0,\n",
       " ' swelling': 0,\n",
       " ' unresponsive': 0,\n",
       " ' young fundus': 0,\n",
       " ' ocular cataract': 0,\n",
       " ' present glaucoma va': 0,\n",
       " ' young cataract': 0,\n",
       " ' ocular anxiety': 0,\n",
       " ' surgery left': 0,\n",
       " ' swollen glaucoma': 0,\n",
       " ' present anterior': 0,\n",
       " ' short of breath va': 0,\n",
       " ' subretinal fluid': 0,\n",
       " ' obscured': 0,\n",
       " ' vitreous haemorrhage anxiety': 0,\n",
       " ' yag capsulotomy ct': 0,\n",
       " ' removed abrasion': 0,\n",
       " ' present abrasion': 0,\n",
       " ' visual acuity abrasion': 0,\n",
       " ' tic anterior': 0,\n",
       " ' tic glaucoma': 0,\n",
       " ' protruding': 0,\n",
       " ' yag capsulotomy ache': 0,\n",
       " ' fluorescein angiogram cataract': 0,\n",
       " ' uveitis bilateral': 0,\n",
       " ' depression': 0,\n",
       " ' surgery conjunctivitis': 0,\n",
       " ' young': 0,\n",
       " ' present contact lens': 0,\n",
       " ' eye pain': 0,\n",
       " ' pain around the right eye': 0,\n",
       " ' dizziness': 0,\n",
       " ' surgery alp': 0,\n",
       " ' recurrent cataract': 0,\n",
       " ' fracture': 0,\n",
       " ' trauma va': 0,\n",
       " ' trauma alp': 0,\n",
       " ' peripheral va': 0,\n",
       " ' double vision': 0,\n",
       " ' phoria': 0,\n",
       " ' fluorescein angiogram': 0,\n",
       " ' complain glaucoma': 0,\n",
       " ' us glaucoma va': 0,\n",
       " ' us conjunctivitis': 0,\n",
       " ' young ct': 0,\n",
       " ' left bilateral': 0,\n",
       " ' us diabetes': 0,\n",
       " ' gait': 0,\n",
       " ' us complex': 0,\n",
       " ' scleritis': 0,\n",
       " ' present diabetes': 0,\n",
       " ' lumps': 0,\n",
       " ' glaucoma complex': 0,\n",
       " ' visual loss va': 0,\n",
       " ' left amblyopia': 0,\n",
       " ' tic glaucoma va': 0,\n",
       " ' vitreous amblyopia': 0,\n",
       " ' retina conjunctivitis': 0,\n",
       " ' primary chalazion': 0,\n",
       " ' complain age related macular degeneration': 0,\n",
       " ' visual field loss ct': 0,\n",
       " ' eye lid ct': 0,\n",
       " ' ocular hypertension ct': 0,\n",
       " ' amsler chart': 0,\n",
       " ' vitreous discomfort': 0,\n",
       " ' asymptomatic': 0,\n",
       " ' vitreous age related macular degeneration': 0,\n",
       " ' sand glaucoma': 0,\n",
       " ' visual field loss cataract': 0,\n",
       " ' visual fields blepharitis': 0,\n",
       " ' flare cataract': 0,\n",
       " ' abrasion': 0,\n",
       " ' complain alp': 0,\n",
       " ' vision has deteriorated': 0,\n",
       " ' visual fields anterior': 0,\n",
       " ' dermatochalasis': 0,\n",
       " ' retina cataract': 0,\n",
       " ' lid margins': 0,\n",
       " ' multiple sclerosis': 0,\n",
       " ' sand anterior': 0,\n",
       " ' photophobia': 0,\n",
       " ' vitreous ache': 0,\n",
       " ' local anaesthetic cataract': 0,\n",
       " ' retinal detachment cataract': 0,\n",
       " ' ring cataract': 0,\n",
       " ' hypotension': 0,\n",
       " ' sand alp': 0,\n",
       " ' ocular hypertension glaucoma': 0,\n",
       " ' vasculopathy va': 0,\n",
       " ' vitreous alcohol': 0,\n",
       " ' trauma glaucoma': 0,\n",
       " ' visual fields ache': 0,\n",
       " ' irritation in the left eye': 0,\n",
       " ' intracranial pressure': 0,\n",
       " ' visual symptoms': 0,\n",
       " ' gritty': 0,\n",
       " ' right fundus': 0,\n",
       " ' temporal va': 0,\n",
       " ' bite cataract': 0,\n",
       " ' bite va': 0,\n",
       " ' sticky eye': 0,\n",
       " ' sticky eyes': 0,\n",
       " ' slit lamp': 0,\n",
       " ' slit lamp examination': 0,\n",
       " ' removal of corneal sutures va': 0,\n",
       " ' right anterior': 0,\n",
       " ' removed ct': 0,\n",
       " ' exotropia': 0,\n",
       " ' uveitis ct': 0,\n",
       " ' rns anterior': 0,\n",
       " ' diode laser cataract': 0,\n",
       " 'blepharitis': 1,\n",
       " 'dry eyes': 1,\n",
       " 'acute anterior uveitis': 1,\n",
       " 'conjunctivitis': 1,\n",
       " 'posterior vitreous detachment': 1,\n",
       " 'corneal abrasion': 1,\n",
       " 'chalazion': 1,\n",
       " 'contact lens associated keratitis': 1,\n",
       " 'sub conjunctival haemorrhage': 1,\n",
       " 'cataract': 1,\n",
       " 'glaucoma': 1}"
      ]
     },
     "execution_count": 23,
     "metadata": {},
     "output_type": "execute_result"
    }
   ],
   "source": [
    "merge_dict"
   ]
  },
  {
   "cell_type": "code",
   "execution_count": 18,
   "metadata": {},
   "outputs": [
    {
     "data": {
      "text/plain": [
       "'abrasion, corneal abrasion, corneal erosion, ct, left, recurrent, us ct, glaucoma, tic, us, visual fields va, ache, cataract, ct, fundus, left, ocular, oval, retina, us, visual acuity va, cataract, ct, pet, retina, ring, surgery ache, aphakic, ct, fundus, glaucoma, left, ocular, retina, right, us, visual acuity, present cataract, ct, fundus, left, macula, macular, retina, surgery, us, visual acuity alp, glaucoma, right, us va, central, central retinal vein occlusion, ct, glaucoma, retina, right, ring, tic, us ache, amblyopia, cataract, ct, left, macula, retina, retinal detachment, rhegmatogenous, right, us, visual acuity ache, amblyopia, cataract, ct, left, macula, retina, retinal detachment, rhegmatogenous, right, us, visual acuity amblyopia, cataract, ct, macula, retina, retinal detachment, rhegmatogenous, right, us va, cataract, ct, dilated, flashes, floater, floaters, left, macula, macular, retina, retinal detachment, right, surgery, tic, trauma, us, visual acuity, present ache, cataract, ct, pinhole, retina, retinal detachment, right, us va, abnormal, anterior, cataract, ct, fundus, left, macula, macular, ocular, retina, retinal detachment, right, surgery, tic, us va, cataract, ct, left, oval, retina, refraction, removed va, ache, cataract, ct, fundus, left, ocular, oval, retina, surgery, us, visual acuity va, anterior, cataract, ct, flare, fundus, left, ocular, pet, retina, us, vitreous, vitreous haemorrhage alp, glaucoma, inflammation, left, nystagmus, opacity, retina, us va, ct, pet, posterior vitreous detachment, retina, right, ring, tic, us, vitreous bilateral, cataract, ct, diabetic retinopathy, fundus, left, lens opacity, myopic, opacity, retina, right, ring, surgery, tic, us, visual acuity, present central, central scotoma, ct, disturbance, fundus, glaucoma, ocular, retina, right, us, visual acuity, present bilateral, cataract, ct, diabetic retinopathy, fundus, left, lens opacity, myopic, opacity, retina, right, ring, surgery, tic, us, visual acuity, present central, central scotoma, ct, disturbance, fundus, glaucoma, ocular, retina, right, us, visual acuity, present ache, cataract, ct, diabetic retinopathy, fundus, macula, ocular, retina, right, ring, tic, us, visual acuity ache, cataract, ct, fundus, macula, ocular, retina, right, ring, us, visual acuity ache, anterior, cataract, ct, fundus, ocular, retina, right, ring, us, visual acuity va, cataract, ct, fundus, left, macula, macular, retina, right, ring, surgery, us, visual acuity, present ache, anterior, cataract, ct, fundus, ocular, retina, right, ring, us, visual acuity va, cataract, ct, left, ocular, retina, retinal detachment, right, surgery, us, visual acuity ct, glaucoma, left, macula, macular, ocular, pet, right, visual fields va, left, peripheral, posterior vitreous detachment, ring, scarring, us, vitreous, present ct, floater, floaters, fundus, left, posterior vitreous detachment, retina, right, ring, surgery, tic, us, visual acuity, vitreous va, cataract, ct, retina, right, surgery, us, yag capsulotomy va, cataract, ct, left, retina, sharp, surgery va, ache, cataract, ct, fundus, left, ocular, oval, retina, surgery, us, visual acuity, vitreous va, cataract, ct, fundus, left, macula, macular, retina, right, ring, surgery, us, visual acuity, present va, anterior, aphakic, cataract, ct, flat retina, fundus, left, oval, retina, right, sharp, us, visual acuity va, bilateral, cataract, ct, left, retina, retinal detachment, right, sharp, surgery, visual acuity, refraction va, aphakic, cataract, ct, left, lens opacity, opacity, retina, right, sharp, tic va, cataract, ct, left, retina, retinal detachment, us anterior, cataract, ct, retina, right, surgery, us, uveitis, visual acuity va, ache, cataract, ct, fundus, left, ocular, oval, retina, us, vitreous va, cataract, ct, ocular, retina, right, ring va, ache, cataract, ct, fundus, left, ocular, oval, retina, ring, us, visual acuity, vitreous va, cataract, ct, fundus, ocular, retina, right, ring, us, visual acuity, vitreous, vitreous haemorrhage cataract, ct, left, recurrent, retina, retinal detachment, right cataract, choroidal, ct, ring, surgery, us ache, complex, ct, fundus, glaucoma, left, ocular, retina, right, surgery, us, visual acuity, present ct, glaucoma, painful, right, rns, tic bilateral, conjunctivitis, ct, etinitis, left, retinitis pigmentosa, right, us cataract, central, ct, left, macula, macular, retina, retinal detachment, right va, cataract, ct, fundus, ocular, retina, right, ring, rns, us, visual acuity, vitreous, vitreous haemorrhage ache, cataract, ct, ocular, retina, retinal detachment, right, ring, visual acuity cataract, chorioretinal, ct, gradual, left, macula, macular, myopic, retina, right, surgery, us, visual acuity, yag capsulotomy, present va, conjunctivitis, ct, inflammation, retina, present va, anterior, cataract, ct, flare, fundus, left, retina, right, tic, us, refraction va, conjunctivitis, ct, inflammation, retina va, cataract, ct, left, retina, right, surgery, us va, left, posterior vitreous detachment, retina, right, us, vitreous va, bilateral, cataract, ct, epiretinal membranes, left, retina, right, surgery, us, visual acuity, present ache, cataract, central, ct, fundus, macula, macular, ocular, retina, retinal detachment, right, surgery, us, visual acuity cataract, ct, diplopia, macula, retina, retinal detachment, right, surgery, us, visual acuity cataract, ct, diplopia, retina, retinal detachment, right, ring, sand, surgery, tic, vertical, removed va, ct, glaucoma, left, oval, peripheral, pet, retina, ring va, ct, glaucoma, left, oval, peripheral, pet, retina, ring ache, ct, fundus, gpa, left, ocular, posterior vitreous detachment, retina, right, us, visual acuity, vitreous va, cataract, ct, left, macula, macular, ocular, right, surgery, present va, ct, left, ocular, posterior vitreous detachment, right, us, vitreous, vitreous haemorrhage cataract, ct, retina va, conjunctivitis, ct, retina, right, surgery va, conjunctivitis, ct, retina, right va, acute, conjunctivitis, ct, retina, right, us bilateral, blurred, ct, glaucoma, left, ocular, right, tic, us, visual fields, refraction va, cataract, ct, dry, left, macula, macular, retina, retinal detachment, rhegmatogenous, right, surgery, us va, cataract, ct, left, ocular, retina, surgery va, anterior, bilateral, cataract, ct, diabetic retinopathy, fundus, left, macula, macular, macular oedema, oedema, right, tic, us, visual acuity, vitreous, vitreous haemorrhage ct, glaucoma, ocular, us va, abnormal, anterior, cataract, ct, flashing lights, fundus, left, retina, ring, tic, us, visual acuity abnormal, anterior, cataract, contact lens, ct, fundus, inflammed, irregular, left, redness, retina, right, ring, tic, us, visual acuity, tonometry cataract, ct, retina, right, ring, us, vitreous, vitreous haemorrhage va, aphakic, cataract, ct, ocular, oval, retina, retina is flat, right, sand, surgery, us cataract, ct, distortion, fundus, gradual, left, loss of vision, ocular, retina, right, surgery, us, visual acuity va, cataract, choroidal, ct, macula, macular, neovascular, neovascularisation, retina, right, surgery cataract, ct, left, pet, retina, right cataract, ct, cyst, fixed, left, pet, rapd, retina, surgery, tic, us va, cataract, ct, retina, surgery, tic cataract, ct, left, retina, retinal detachment, surgery va, ache, cataract, ct, cyst, fundus, left, macula, ocular, oedema, oval, retina, sand, us, visual acuity va, left, macula, macular, ocular, posterior vitreous detachment, tic, us, vitreous, present abnormal, ache, cataract, ct, fundus, left, macula, macular, ocular, retina, right, surgery, us, visual acuity va, anterior, cataract, central, ct, ocular, retina, retina is flat, retinal detachment, right, us, visual acuity cataract, ct, fundus, macula, ocular, retina, right, us, visual acuity ache, cataract, ct, fundus, left, ocular, retina, surgery, us, visual acuity, present va, anterior, cataract, central, ct, ocular, retina, right, us, visual acuity alp, glaucoma, present va, cataract, ct, retina, surgery, us cataract, ct, pet, retina, retinal detachment, right cataract, ct, left, ocular, retina, right, ring, surgery, tic, visual acuity, yag capsulotomy va, cataract, ct, retina, us ache, cataract, ct, fundus, left, ocular, retina, ring, us, visual acuity va, abnormal, ct, glaucoma, left, ocular, retina, right, visual acuity, present cataract, ct, fundus, ocular, right, us, visual acuity, present cataract, ct, left, ocular, surgery ache, cataract, ct, fundus, left, ocular, red reflex, retina, right, us, visual acuity cataract, ct, left, ocular, surgery, tic cataract, ct, macula, macular, retina, retinal detachment, us ache, aphakic, ct, fundus, glaucoma, left, retina, right, ring, us, visual acuity cataract, ct, fundus, left, macula, macular, pet, retina, right, ring, surgery, us, visual acuity ache, aphakic, ct, fundus, glaucoma, left, retina, right, ring, us, visual acuity ache, aphakic, ct, fundus, glaucoma, hearing, left, retina, right, ring, surgery, us, visual acuity ache, cataract, ct, left, retina, retinal detachment, sand, surgery, us ache, anterior, blepharitis, fundus, left, ocular, retina, right, us, visual acuity cataract, central, ct, etinitis, left, macula, macular, macular oedema, oedema, reduced vision, retina, retinitis pigmentosa, right, ring, squint, us, visual acuity, refraction va, cataract, ct, flat retina, fundus, left, ocular, oval, retina, ring, us, visual acuity, vitreous va, cataract, ct, ocular, oval, retina, retinal detachment, right, surgery, us cataract, ct, left, retina, retinal detachment, surgery ache, anterior, cataract, ct, dry, fundus, left, ocular, retina, right, us, visual acuity, refraction ct, flat retina, fundus, left, macula, macular, ocular, posterior vitreous detachment, retina, right, us, visual acuity, vitreous, present va, cataract, ct, retina, retina is flat, retinal detachment, right, sand, us, removed cataract, choroidal, ct, distorted, distorted vision, left, macula, ocular, retina, retinal detachment, surgery, us, present va, ache, cataract, ct, left, retina, retinal detachment, surgery, tic, us, vitreous va, cataract, ct, left, ocular, retina, right, visual acuity ache, cataract, ct, fundus, left, ocular, retina, surgery, us, visual acuity, present cataract, ct, left, macula, macular, macular oedema, oedema, retina, surgery, temporal, us ache, cataract, ct, ocular, retina, right, visual acuity, present ache, cataract, ct, fundus, left, ocular, retina, surgery, us, visual acuity, present ache, cataract, ct, fundus, macula, ocular, retina, right, surgery, us, visual acuity va, glaucoma, gonioscopy, left, retina, right, ring, tic, us, visual acuity va, cataract, ct, fundus, loss of vision, ocular, oval, retina, right, ring, sudden loss of vision, surgery, us, visual acuity va, ache, cataract, ct, fundus, left, ocular, oval, retina, surgery, us, vitreous bilateral, cataract, ct, fixed, left, retina, retinal detachment, right, ring, surgery, us, ultrasound va, glaucoma, gonioscopy, left, retina, right, surgery, tic, us, visual acuity cataract, ct, retina, retina is flat, right, sand, tic, trauma cataract, ct, left, ocular, retina, ring, surgery cataract, ct, diabetic retinopathy, left, surgery, tic, us ache, anterior, cataract, ct, fundus, left, ocular, pinhole, retina, right, ring, us, visual acuity va, central, flashes, floater, floaters, intermittent, left, macula, macular, posterior vitreous detachment, retina, right, ring, us, vitreous, white spot ache, cataract, ct, fundus, left, retina, ring, us, visual acuity cataract, ct, retina, retinal detachment, surgery ct, flat retina, fundus, left, posterior vitreous detachment, retina, retinal detachment, right, tic, us, visual acuity, vitreous, present bilateral, cataract, ct, left, retina, retinal detachment, right, sand va, ache, cataract, ct, fundus, left, ocular, oval, retina, us, visual acuity, vitreous cataract, ct, macula, macular, retina, ring, surgery cataract, ct, left, retina, ring va, cataract, ct, left, retina, surgery, us, visual loss, complain va, anterior, bilateral, cataract, ct, intermittent, left, ocular, oval, peripheral, presented, retina, retinal detachment, right, surgery, us, vitreous, ultrasound, present va, anterior, cataract, ct, retina, retinal detachment, right, surgery, us, uveitis va, cataract, ct, left, retina, surgery, us, visual loss, complain va, anterior, bilateral, cataract, ct, intermittent, left, ocular, oval, peripheral, presented, retina, retinal detachment, right, surgery, us, vitreous, ultrasound, present va, cataract, ct, left, oval, retina, retina is flat, retinal detachment, surgery, us va, ache, anterior, cataract, ct, fundus, injected, ocular, retina, right, us, visual acuity ct, glaucoma, left, lens opacity, ocular, opacity, right, visual fields, refraction va, bilateral, cataract, contact lens, ct, fundoscopy, left, lens opacity, opacity, retina, retinal detachment, right, squint, surgery, tic, us, vitreous va, aphakic, cataract, ct, oval, pet, retina, right, ring, surgery, tic, us va, ache, flashes, floater, floaters, posterior vitreous detachment, retina, right, ring, us, vitreous va, cataract, ct, left, oval, retina, retina is flat, retinal detachment, surgery, us va, cataract, ct, left, oval, retina, retina is flat, retinal detachment, surgery, us va, cataract, ct, lens opacity, macula, macular, opacity, oval, right, ring, scarring, surgery, us va, cataract, ct, oval, retina, surgery va, bilateral, glaucoma, left, right, sand, tic, us, visual field loss va, cataract, ct, macula, pinhole, retina, retinal detachment, right, visual acuity glaucoma, us va, ache, cataract, ct, fundus, ocular, oval, retina, right, us, visual acuity, vitreous ct, floater, floaters, left, posterior vitreous detachment, retina, ring, surgery, us, vitreous, primary va, astigmatis, astigmatism, posterior vitreous detachment, retina, tsh, us, vitreous ct, glaucoma, us cataract, ct, left, surgery, present cataract, ct, hearing, left, ring, tic va, ct, glaucoma, neovascular, neovascular membrane, retina, us va, cataract, ct, retina, surgery glaucoma, itching, left, retina, surgery va, ache, cataract, ct, foreign body, fundus, ocular, retina, right, us, visual acuity, present va, ache, cataract, ct, headache, left, retina, ring, surgery, tic, us va, cataract, ct, retina, ring, surgery, tic, uveitis, ultrasound, present alp, ct, glaucoma, left va, cataract, ct, retina, surgery, us, infusion cataract, ct, surgery va, cataract, ct, retina, ring, surgery, tic, uveitis, ultrasound, present va, cataract, ct, distortion, macula, macular, retina, retinal detachment, right, surgery, us, visual acuity, visual distortion va, floater, floaters, posterior vitreous detachment, retina, ring, tic, us, vitreous, complain va, cataract, ct, retina, ring, surgery, tic, uveitis, ultrasound, present ct, glaucoma, left, ocular, refraction ct, glaucoma, left, ocular, refraction va, ache, angina, anterior, bilateral, cataract, ct, disturbance, esr, headache, left, myalgia, pet, reduced vision, reduced vision in the left eye, retina, ring, screen, surgery, temporal, temporal arteries, tic, visual disturbance, visual fields va, cataract, ct, left, retina, surgery, us, uveitis va, cataract, ct, left, retina, surgery, us dry, dry eye, glaucoma, right, sand, us dry, dry eye, glaucoma, right, sand, us central, ct, distortion, glaucoma, retina, ring, surgery glaucoma, sand, surgery ct, glaucoma, us glaucoma, left, ocular, right, sand, tic, us va, posterior vitreous detachment, retina, us, vitreous ct, glaucoma, ocular, visual fields glaucoma, retina, retinal hole, right, us ct, glaucoma, left, sand va, anterior, bilateral, cataract, ct, fundus, left, macula, macular, right, ring, surgery, tic, us, primary va, aphakic, cataract, ct, left, oval, retina, retina is flat, right, ring, surgery, us cataract, ct, right, sand, us, vitreous, vitreous haemorrhage va, ache, anterior, ct, dilated, flashing lights, headache, intermittent, myalgia, ocular, polymyalgia rheumatica, posterior vitreous detachment, retina, ring, tic, us, visual acuity, vitreous va, cataract, ct, left, ocular, retina, tic, trauma, us cataract, ct, left, retina, surgery, us ache, anterior, cataract, ct, fundus, left, ocular, retina, us, visual acuity amblyopia, bilateral, ct, glaucoma, gonioscopy, hyperopic, left, ocular, peripheral, right, ring, tic, us, visual fields va, glaucoma, ocular, ocular hypertension, sand, tic, us, visual fields glaucoma va, cataract, corneal erosion, ct, left, recurrent, retina, right glaucoma, tic va, bilateral, cataract, ct, retina, right, tic, present va, cataract, ct, oval, right va, cataract, ct, retina, rhegmatogenous, right, us ct, glaucoma, left, ocular, right, ring, scarring, tic, us glaucoma, rns, us glaucoma, ocular va, cataract, ct, retina, retina is flat, retinal detachment, right, surgery, us bilateral, cataract, ct, left, ring, surgery, tic, local anaesthetic va, cataract, ct, left, neovascular, neovascularisation, ocular, retina, right, tic, visual acuity va, cataract, ct, retina, retina is flat, right, surgery, visual acuity glaucoma floater, floaters, left, posterior vitreous detachment, us, vitreous alp, bilateral, cataract, ct, left ct, glaucoma, sand va, anxiety, bilateral, drusen, glaucoma, gonioscopy, ocular, open angles, tic, us, visual fields alp, glaucoma, us cataract, ct, left, surgery va, glaucoma, left, ocular, retina, surgery, present va, anxiety, bilateral, drusen, glaucoma, gonioscopy, ocular, open angles, tic, us, visual fields va, ct, fundus, glaucoma, opacity, surgery, us age related macular degeneration, bilateral, cataract, ct, left, macula, macular, ocular, ocular hypertension, retina, us va, alp, glaucoma, left, sand va, bilateral, cataract, ct, distortion, left, macula, macular, right, us glaucoma, us anxiety, dry, dry eye, dry eyes, macula, ocular, peripheral, tic, us bilateral, diabetic retinopathy, glaucoma, left, right, tic, us bilateral, blepharitis, left, rosacea contact lens, ct, dilated, fixed, glaucoma, ocular, right, tic bilateral, cataract, ct, left, macula, macular, retina, right, ring, tic, local anaesthetic va, bilateral, cataract, ct, macula, ocular, ocular hypertension, right, tic, us, present va, alp, glaucoma, rns va, asthma, bilateral, cataract, choroidal, choroidal neovascular membrane, ct, diabetes, left, neovascular, neovascular membrane, retina, right, us va, anterior, cataract, ct, left, ocular, retina, right, ring, tic, us, uveitis va, bilateral, ct, glaucoma, left, ocular, right, tic va, ct, left, loss of vision, macula, macular, posterior vitreous detachment, retina, retinal detachment, right, ring, surgery, temporal, tic, us, vitreous, present va, anterior, anterior chamber, aphakic, cataract, ct, epithelial, fundus, injected, left, retina, retinal detachment, us, visual acuity va, cataract, ct, left, retina, retinal detachment, right, surgery, tic, visual acuity ct, glaucoma, right, tic, us, refraction va, bilateral, cataract, contact lens, ct, fundoscopy, left, lens opacity, opacity, retina, retinal detachment, right, squint, surgery, tic, us, vitreous alp, blepharitis, ct, dry, dry eye, ocular, stinging, us va, cataract, ct, retina, retinal detachment, squint, surgery, tic, us cataract, ct, gradual, left va, cataract, ct, left, macula, macular, presented, retina, retinal detachment, surgery, tic, us, present bilateral, cataract, ct, right, us bilateral, cataract, ct, right, us cataract, ct, hearing, right, ring, surgery glaucoma va, contact lens, ct, floater, floaters, left, ocular, posterior vitreous detachment, retina, right, ring, us, vitreous cataract, ct, left, macula, macular, macular oedema, oedema, retina, right, surgery, us, yag capsulotomy va, bilateral, cataract, ct, dilated, left, macula, macular, ocular, retina, retinal detachment, right, surgery, tic, visual acuity, visual loss arcus, bilateral, ct, glaucoma, gonioscopy, left, ocular, ocular hypertension, open angles, pupillary defect, right, temporal, tic, us va, blurred, blurred vision, glaucoma, ocular, visual fields cataract, ct, left, refraction ct, glaucoma, left, ring, surgery, us glaucoma, ocular, tic, us, visual fields abnormal, ct, glaucoma, ocular, tic, us, visual fields va, abnormal, glaucoma, suspicious discs, tic, us, visual fields diabetic retinopathy, dilated, glaucoma, ocular, physiological cupping, sand, tic, us, visual fields ct, glaucoma, ocular, us va, blurred, blurred vision, glaucoma, ocular, visual fields floater, floaters, ocular, posterior vitreous detachment, us, vitreous chalazion, cyst, eye lid, left, lump, mri, sand va, choroidal, ct, flashing lights, floater, floaters, photopsia, posterior vitreous detachment, retina, right, ring, us, vitreous conjunctivitis, ct, left, recurrent, retina, retinal detachment, right, sand, surgery, tic, us ct, glaucoma, left, ocular, right bilateral, ct, glaucoma, ocular bilateral, ct, glaucoma, left, ocular, right, us, present conjunctivitis, ct, epithelial, right, visual acuity ct, glaucoma, us bilateral, cataract, ct, left, right, sand, tic ct, glaucoma, us allergic conjunctivitis, bilateral, conjunctivitis, ct, epiphora, irritable, irritable eyes, ring, tic, us, complain bilateral, cataract, ct, left, right, sand, tic bilateral, ct, glaucoma anterior, glaucoma, screen, us, uveitis va, ache, complaining, dilated, floater, floaters, left, photopsia, posterior vitreous detachment, retina, retinal detachment, right, tic, us, visual acuity, vitreous, complain cataract, ct, retina, right va, cataract, ct, retina anterior, ct, glaucoma, ring, us, uveitis glaucoma, us, visual fields va, cataract, ct, retina, surgery central, central retinal vein occlusion, glaucoma, left, retina, tic, us va, ct, glaucoma, myopic, ocular, sand, tic, visual fields va, cataract, ct, macula, macular, retina, surgery, us glaucoma, myopic, tic cataract, ct, left, refraction central, central retinal vein occlusion, glaucoma, iritis, left, retina, tic, us va, glaucoma, left, right, squint, us, present glaucoma, myopic, tic va, cataract, ct, macula, macular, retina, surgery, us va, glaucoma, left, right, squint, us, present cataract, ct, diplopia, spasm, surgery, tic, vertical glaucoma, ocular, right, us cataract, ct, diplopia, spasm, surgery, tic, vertical glaucoma cataract, ct, surgery ct, glaucoma, ocular, us bilateral, cataract, ct, macula, macular, surgery, tic, us cataract, ct, fundus, lens opacity, ocular, opacity, retina, right, us, visual acuity bilateral, conjunctivitis, ct, us central, central retinal vein occlusion, glaucoma, iritis, left, retina, tic, us va, floater, floaters, ocular, posterior vitreous detachment, retina, ring, us, vitreous alp, glaucoma, left, ocular, retina, retinal detachment, right, screen, visual acuity, blood tests alp, aphakic, glaucoma, left, ocular va, cataract, ct, epithelial, left, tic cataract, ct, left, right, surgery blepharitis, ct, left, surgery bilateral, bilateral dry, dry, dry eye, dry eyes bilateral, glaucoma, ocular, sand cataract, ct, right, ring, us cataract, ct, ocular, pinhole, right, tic, us va, ct, left, posterior vitreous detachment, retina, us, vitreous, vitreous haemorrhage glaucoma, left, right, tic diabetic retinopathy, glaucoma, sand, tic, us va, cataract, ct, right ct, floater, floaters, posterior vitreous detachment, retina, right, ring, surgery, tic, us, vitreous va, cataract, ct, retina, surgery va, cataract, ct, left, ocular, ocular hypertension, us, present alp, ct, glaucoma, left, ocular, right, us, present glaucoma, ocular, right, us va, ct, dilated, dry, dry eye, floater, floaters, left, ocular, posterior vitreous detachment, retina, right, ring, tear film, tic, us, vitreous dendritic, glaucoma, left, pet, rns, tic, ulcer va, cataract, ct, left, us va, anterior, cataract, ct, left, ocular, retina, retinal detachment, us, visual acuity, yag capsulotomy va, cataract, ct, left, us va, cataract, ct, oval, retina, right va, cataract, ct, oval, retina, retina is flat, right, surgery, us, visual acuity va, cataract, ct, flat retina, fundus, left, ocular, retina, surgery, temporal, us, visual acuity, vitreous, vitreous haemorrhage anisometropia, cataract, ct, left, myopic, ocular, right, surgery, us va, ache, cataract, ct, fundus, left, ocular, oval, retina, right, us, visual acuity, vitreous abnormal, cataract, ct, fundus, left, ocular, retina, right, us, visual acuity va, allergic conjunctivitis, conjunctivitis, ct, keratitis, ocular, ring, scarring, tic, us, present anxiety, glaucoma, gonioscopy, left, ocular, right, tic, us, visual fields va, bilateral, floater, floaters, left, peripheral, posterior vitreous detachment, retina, right, ring, tic, us, vitreous va, glaucoma, rash, right, ring, us ct, glaucoma, gradual, left, progressive, right, tic, trauma, present va, floater, left, posterior vitreous detachment, retina, retinal detachment, right, ring, us, vitreous anxiety, glaucoma, tic, us glaucoma, right, us amblyopia, cataract, central, ct, flat retina, left, macula, retina, right, squint, strabismus, surgery, us, visual acuity, primary ct, glaucoma, us anisometropia, anterior, anxiety, bilateral, blurred, chorioretinal, ct, fundus, glaucoma, gonioscopy, left, myopic, ocular, progressive, pupillary defect, retina, right, tic, trauma, us, refraction anisometropia, anterior, anxiety, bilateral, blurred, chorioretinal, ct, fundus, glaucoma, gonioscopy, left, myopic, ocular, progressive, pupillary defect, retina, right, tic, trauma, us, refraction va, complaint, ct, floater, floaters, glaucoma, macula, macular, metamorphopsia, retina, right, us, primary, complain va, cataract, ct, retina, right, present va, asteroid hyalosis, ct, dilated, flashing lights, floater, floaters, left, migraine, ocular, posterior vitreous detachment, retina, right, ring, us, visual acuity, vitreous, complain va, blepharitis, ct, discomfort, intermittent, left, retina, right, surgery, us, complain flashing lights, glaucoma, left, ocular, retina, right, tic, us, visual acuity va, ct, glaucoma, ocular, us, ct scan, present va, ct, glaucoma, ocular, us, ct scan, present va, ct, glaucoma, ocular, visual fields alp, ct, glaucoma, left, right, surgery, us glaucoma, ocular, right va, posterior vitreous detachment, retina, right, ring, tic, us, vitreous anxiety, bilateral, binocular, cataract, ct, ocular, ring, tic, us, refraction glaucoma, ocular, sand bilateral, ct, glaucoma, right, us glaucoma bilateral, ct, glaucoma, right, us glaucoma, ocular, ocular hypertension, ring anterior, flat retina, floater, floaters, left, macula, macular, macular oedema, oedema, posterior vitreous detachment, retina, retinal detachment, right, ring, sand, surgery, us, visual acuity, vitreous, vitreous haemorrhage allergic conjunctivitis, atopy, conjunctivitis, ct, tic, us va, ct, glaucoma, left, ocular, right bilateral, ct, glaucoma, right, us anterior, flat retina, floater, floaters, left, macula, macular, macular oedema, oedema, posterior vitreous detachment, retina, retinal detachment, right, ring, sand, surgery, us, visual acuity, vitreous, vitreous haemorrhage bilateral, ct, glaucoma, right, us va, cataract, ct, left, retina, surgery bilateral, cataract, ct, left, tic, us, visual fields bilateral, cataract, ct, left, ptosis, right, surgery, tic, local anaesthetic va, glaucoma alp, glaucoma, ocular, sand anxiety, glaucoma, us, present allergic conjunctivitis, bilateral, conjunctivitis, ct cataract, ct, right, tic va, bilateral, conjunctivitis, ct, epithelial, right, us allergy, alp, glaucoma, right, us glaucoma, tic contact lens, ct, glaucoma ct, fundus, glaucoma, left, retina, right, us glaucoma, rash, us ct, glaucoma, gonioscopy, us va, ct, glaucoma, ocular, progressive, right va, cataract, ct, lens opacity, opacity, right, tic, removed va, ache, cataract, ct, left, ocular, recurrent, right ct, glaucoma, left, macula, macular, macular oedema, ocular, oedema, tic ct, glaucoma, right, tic, us va, blepharitis, ct, retina, us va, ct, glaucoma, left, right, us glaucoma anxiety, conjunctivitis, ct, us va, bilateral, conjunctivitis, ct, left, painful, painful eye, rash, right va, anterior, cataract, ct, diabetic retinopathy, intermittent, presbyopia, retina, ring, tic, visual acuity, blood glucose, glucose, complain cataract, ct, distortion, macula, macular, retina, right, surgery, present cataract, ct, esr, right, surgery, swollen, tic, us, vitreous cataract, ct, left, right, surgery, us, yag capsulotomy glaucoma, ocular, right, present glaucoma, ocular, visual fields bilateral, glaucoma, ocular, sand, us va, cataract, choroidal, ct, left, pupillary defect, retina, ring, surgery, tic, us, vitreous, vitreous haemorrhage, ultrasound va, cataract, ct, retina, tic, us, vitreous va, cataract, ct, retina, surgery va, cataract, ct, retina, surgery ct, glaucoma, left, ocular, tic, visual fields va, cataract, ct, retina, us, vitreous, vitreous haemorrhage, present cataract, ct, fundus, ocular, retina, right, us, visual acuity ache, anterior, cataract, ct, cyst, fundus, left, macula, macular, ocular, retina, right, us, visual acuity conjunctivitis, ct, foreign body, unilateral, us, present glaucoma, ocular, ring, tic, us, visual fields cataract, ct, fundus, ocular, retina, right, us, visual acuity va, cataract, ct, retina, surgery, us, vitreous cataract, ct, fundus, ocular, retina, right, us, visual acuity ache, anterior, cataract, ct, fundus, left, ocular, retina, right, tic, us ache, cataract, ct, fundus, left, retina, right, surgery, us, visual acuity va, bilateral, conjunctivitis, ct, keratitis, ocular, right, us, uveitis va, anterior, anterior chamber, bilateral, ct, glaucoma, ocular, retina, retinal detachment, right, superonasal, us, visual acuity, present cataract, ct, fundus, ocular, retina, right, us, visual acuity alp, glaucoma, left, red eye, right, sand, tic, us va, cataract, ct, left, ocular, retina, ring, surgery, us cataract, ct, retina, right, surgery va, cataract, ct, fundus, ocular, reduced vision, retina, right, ring, trauma, us, visual acuity va, cataract, ct, fundus, ocular, retina, right, ring, trauma, us va, bilateral, glaucoma, left, ocular, right, tic, us bilateral, fundus, photopsia, posterior vitreous detachment, retina, us, vitreous, complain cataract, ct, diabetes, diabetic retinopathy, left, ring, tic cataract, ct, left, right, surgery cataract, ct, retina, right, surgery, us bilateral, fundus, photopsia, posterior vitreous detachment, retina, us, vitreous, complain amblyopia, cataract, ct, left, ocular, retina, retina is flat, retinal detachment, right, sand cataract, ct, fundus, left, retina, ring, surgery, us bilateral, fundus, photopsia, posterior vitreous detachment, retina, us, vitreous, complain va, ache, bilateral, cataract, ct, etinitis, fundus, left, retina, right, surgery, us, visual acuity bilateral, fundus, photopsia, posterior vitreous detachment, retina, us, vitreous, complain left, posterior vitreous detachment, retina, right, surgery, us, visual acuity, vitreous cataract, ct, endophthalmitis, macula, retina, retina is flat, retinal detachment, right, sand, uveitis ache, cataract, ct, diplopia, fundus, left, ocular, peripheral, retina, retinal detachment, right, ring, scarring, surgery, us, visual acuity, present va, anterior, cataract, ct, left, ocular, retina, us va, cataract, ct, distortion, fundus, left, macula, macular, oval, retina, us, visual acuity va, cataract, ct, left, retina, retina is flat, surgery, us ache, anterior, cataract, ct, drusen, fundus, left, ocular, peripheral, retina, right, ring, surgery, us, visual acuity va, ct, glaucoma, left, ocular, us va, blepharitis, ct, ocular va, contact lens, ct, posterior vitreous detachment, retina, right, us, vitreous, vitreous haemorrhage cataract, central, ct, left, recurrent, retina va, ache, cataract, ct, retina, right, us va, cataract, choroidal, ct, ocular, retina, retinal detachment, ring, surgery, us ct, discomfort, glaucoma, left, recurrent, right, surgery, us, present ache, fundus, glaucoma, ocular, retina, right, surgery, tsh, us, visual acuity va, ache, anterior, cataract, ct, left, ocular, oval, retina, ring, surgery, primary, eye injury ache, anterior, cataract, ct, left, peripheral, pinhole, retina, surgery, visual acuity, peripheral iridotomy, present cataract, ct, retina, right, surgery, us ache, alp, glaucoma, left, pinhole, retina, us va, cataract, ct, retina, ring, surgery, us va, acute, floater, floaters, glaucoma, retina, right, tic va, cataract, ct, flat retina, fundus, left, retina, right, ring, surgery, us, visual acuity, vitreous, vitreous haemorrhage cataract, ct, ocular, retina, right, surgery, vision has deteriorated ache, cataract, ct, fundus, left, ocular, retina, sharp, surgery, us, visual acuity ache, glaucoma, gonioscopy, left, ocular, retina, visual acuity ache, glaucoma, gonioscopy, left, ocular, pet, retina, visual acuity va, cataract, ct, retina, surgery va, ache, bilateral, cataract, ct, cyst, left, retina, retinal detachment, rhegmatogenous, us blepharitis, ct va, ct, glaucoma, left, ocular, tic acute, chalazion, inflamed, left, right, us va, cataract, ct, left, oval, tic, removed, present va, cataract, ct, right, rns glaucoma, right, rns, sand abnormal, ache, anterior, cataract, ct, fundus, left, ocular, retina, right, surgery, us, visual acuity va, ct, glaucoma, itching, pet, ring, us ct, glaucoma, gradual, itching, left, ocular, pet, right, surgery, us, present va, left, macula, macular, posterior vitreous detachment, right, ring, surgery, us, vitreous va, bilateral, cataract, ct, reduced vision, right, ring, surgery, tic va, bilateral, ct, dry, dry eye, dry eyes, us va, cataract, ct, ocular, oval, right, ring, us, visual acuity, vitreous ct, glaucoma, ocular, sand, us bilateral, cataract, ct, drusen, fluorescein, fluorescein angiography, fundoscopy, left, macula, macular, macular oedema, ocular, oedema, retina, right, tic, us, visual acuity anterior, cataract, ct, right, sand, us cataract, ct, left, right, surgery, tic, us, refraction cataract, ct, fundus, right, tic, us glaucoma, left va, flashing lights, floater, floaters, posterior vitreous detachment, retina, retinal detachment, right, ring, us, vitreous ct, glaucoma, ocular, us discomfort, glaucoma, left, ocular, right, tic va, posterior vitreous detachment, retina, retinal detachment, right, ring, us, vitreous va, cataract, ct, macula, macular, macular oedema, oedema, retina, ring, surgery, us central, central retinal vein occlusion, glaucoma, left, retina, right, us cataract, ct, ocular, surgery cataract, ct, left glaucoma, us ct, glaucoma, us bilateral, glaucoma, sand, tic ct, diabetic retinopathy, glaucoma, right, tic, us acute, ct, glaucoma, right, us, removed glaucoma, tic cataract, ct, ocular, tic, visual fields ct, glaucoma, gradual, right, socket, soreness, surgery, us, removed, present ct, glaucoma, left, right, us ct, glaucoma, macula, macular, ocular, us va, cataract, ct, macula, macular, macular oedema, oedema, retina, ring, surgery, us cataract, ct, cyst, left, right, us va, complaining, floater, floaters, posterior vitreous detachment, retina, retinal detachment, us, vitreous, complain va, bilateral, cataract, ct, ring, surgery, young flare, glaucoma va, anterior, anterior chamber, cataract, ct, macula, macular, macular oedema, ocular, oedema, oval, right, surgery, us ct, glaucoma anterior, cataract, ct, right, surgery, tic, us, present cataract, ct, left, right va, bilateral, cataract, ct, surgery age related macular degeneration, ct, glaucoma, macula, macular, sand, us glaucoma alp, bilateral, ct, glaucoma, miosis, ocular, right, present va, colour, ct, glaucoma, mri, ring, sand va, ct, flashes, floater, floaters, posterior vitreous detachment, retina, retinal detachment, right, us, vitreous glaucoma, ocular, us va, ct, flashing lights, floater, floaters, left, posterior vitreous detachment, retina, ring, us, vitreous, complain, present va, ct, floater, pet, posterior vitreous detachment, retina, retinal hole, right, ring, us, vitreous va, cataract, ct, left, right, surgery, tic va, conjunctivitis, ct, us anterior, conjunctivitis, ct, presented, systemically unwell, us, present alp, ct, glaucoma anterior, conjunctivitis, ct, presented, systemically unwell, us, present va, conjunctivitis, ct, us va, cataract, ct, left, oval, retina, retina is flat, right, sand va, left, posterior vitreous detachment, retina, retinal detachment, right, surgery, us, vitreous va, cataract, ct, left, right, surgery, tic anxiety, glaucoma, ocular, us, primary va, glaucoma anterior, bilateral, ct, glaucoma, intermittent, left, peripheral, right, ring, sand, tic, us glaucoma, right, us, uveitis anxiety, glaucoma, ocular, us, visual fields va, cataract, ct, retina alp, ct, glaucoma, ocular va, bilateral, cataract, ct, left, loss of vision, myopia, presented, retina, retinal detachment, right, sudden loss of vision, tic, present va, bilateral, cataract, ct, left, loss of vision, myopia, presented, retina, retinal detachment, right, sudden loss of vision, tic, present cataract, ct, ocular, ring, surgery, us cataract, ct, left, ocular, reduced vision, right, sinus, sinusitis, surgery, us va, ct, left, surgery va, cataract, ct, horizontal, left, pupillary defect, right, squint, strabismus, surgery, us, ultrasound glaucoma va, cataract, ct, surgery, us va, blurred, cataract, ct, cyst, macula, macular, macular oedema, oedema, right, surgery, us glaucoma, screen, us acute, anterior, anterior chamber, glaucoma, right, tic cataract, ct, pinhole, right, surgery bilateral, cataract, ct, diabetic retinopathy, left, right, ring, surgery, tic, us va, flashing lights, floater, floaters, posterior vitreous detachment, retina, ring, us, vitreous cataract, ct, ocular, right, surgery ct, glaucoma, left, right ache, left, posterior vitreous detachment, retina, ring, us, vitreous anterior, anterior chamber, anxiety, cataract, ct, diabetes, epithelial, left, myalgia, ocular, oedema, presented, right, us, vitreous, present va, anterior, bilateral, cataract, ct, retina, sand, us, vitreous va, fundoscopy, glaucoma, left, periphery, retina, tic va, cataract, ct, left, retina, surgery va, ache, cataract, ct, left, ocular, oval, retina, us, vitreous va, anterior, cataract, ct, flat retina, flat retinae, fundus, left, pinhole, retina, right, ring, surgery, us, visual acuity va, cataract, ct, left, ocular, retina, retina is flat, retinal detachment, surgery, tic, us, visual acuity, local anaesthetic va, acute, anterior, ct, glaucoma, left, ocular, pupillary defect, retina, retinal detachment, right, us, ultrasound va, anterior, cataract, ct, flat retina, flat retinae, fundus, left, oval, pinhole, retina, right, us, visual acuity ct, glaucoma, inflamed, left, ocular, pinguecula, right, tic va, anterior, anterior chamber, ct, glaucoma, left, ocular, pupillary defect, retina, retinal detachment, ring, surgery, temporal, tic, us, vitreous va, ache, anterior, anterior chamber, ct, glaucoma, left, ocular, pupillary defect, retina, retinal detachment, tic, us, vitreous, vitreous haemorrhage va, ache, cataract, ct, fundus, myopic, ocular, peripheral, retina, right, us va, cataract, ct, inflammation, left, retina, right, surgery, present bilateral, conjunctivitis, ct, retina ache, cataract, ct, fundus, left, ocular, retina, right, surgery, us, visual acuity anterior, cataract, ct, fundus, ocular, retina, right, temporal, us, visual acuity ache, cataract, ct, fundus, left, ocular, retina, right, surgery, us, visual acuity ache, cataract, ct, fundus, left, ocular, retina, right, surgery, us, visual acuity ache, cataract, ct, fundus, left, ocular, retina, right, surgery, us, visual acuity cataract, ct, left, macula, macular, macular oedema, ocular, oedema, pet, retina, ring, tic, uveitis cataract, ct, epithelial, progressive, surgery, tic, us, present va, ache, bilateral, cataract, ct, fundus, glare, left, retina, retinal detachment, rhegmatogenous, right, surgery, us, visual acuity, complain, present cataract, ct, fundus, ocular, retina, retinal detachment, right, us, visual acuity, ultrasound, present va, cataract, ct, left, oval, retina, retinal detachment, ring, surgery, us va, ache, cataract, ct, fundus, oval, retina, right, ring, us, visual acuity va, ache, cataract, ct, fundus, oval, retina, right, ring, us, visual acuity va, cataract, ct, left, retina, retinal detachment, ring, surgery, tic, us va, ct, glaucoma, left, retina, retinal detachment, surgery, present cataract, ct, fundus, left, macula, retina, right, ring, us, visual acuity, removed va, cataract, ct, left, retina, right, surgery va, bilateral, cataract, ct, left, retina, retinal detachment, ring, surgery, tic, us, young va, ache, cataract, ct, fundus, left, lens opacity, macula, ocular, opacity, oval, retina, retinal detachment, rhegmatogenous, us, visual acuity, vitreous cataract, ct, retina, ring, us va, bilateral, cataract, ct, left, retina, retinal detachment, ring, surgery, tic, us va, cataract, ct, left, retina, surgery, us, young va, cataract, ct, left, macula, macular, retina, retina is flat conjunctivitis, ct, retina, right va, anterior, cataract, ct, fundus, left, macula, macular, ocular, surgery, us, visual acuity bilateral, conjunctivitis, ct, retina, removed va, cataract, ct, ocular, retina, retinal detachment, right, surgery, us va, ache, cataract, ct, fundus, left, lens opacity, macula, ocular, opacity, oval, retina, retinal detachment, rhegmatogenous, us, visual acuity, vitreous va, bilateral, cataract, ct, left, retina, right, tic, us, vitreous cataract, ct, left, reduced vision, retina, right, surgery, tic bilateral, ct, flashing lights, floater, floaters, left, ocular, posterior vitreous detachment, retina, right, ring, temporal, us, visual acuity, vitreous bilateral, cataract, ct, left, retina, ring, us, vitreous, ultrasound ache, anterior, cataract, ct, fundus, ocular, retina, right, surgery, us, visual acuity ache, anterior, cataract, ct, fundus, left, ocular, retina, right, surgery, us, visual acuity, present ache, anterior, cataract, ct, fundus, ocular, retina, right, surgery, us, visual acuity va, cataract, ct, fundus, left, macula, macular, retina, right, ring, surgery, us, visual acuity ache, anterior, cataract, ct, fundus, ocular, retina, right, surgery, us, visual acuity ache, anterior, cataract, ct, fundus, left, ocular, retina, right, tic, us cataract, ct, difficulty reading, glare, retina, retinal detachment, right, tic, us va, abnormal, cataract, ct, fundus, gradual, loss of vision, retina, right, ring, us, visual acuity flat retina, fundus, glaucoma, left, ocular, retina, right, tic, us, visual acuity va, cataract, ct, oval, right, surgery, present flat retina, fundus, glaucoma, left, ocular, retina, right, tic, us, visual acuity va, cataract, ct, mania, oval, retina, right va, conjunctivitis, ct, left, oval, retina, retinal detachment va, cataract, ct, oval, retina, right, surgery cataract, ct, fundus, left, ocular, retina, right, us, visual acuity, present va, central, ct, glaucoma, retina, retinal detachment, right, ring, us, present va, cataract, ct, left, retina, right, surgery, removed ache, ct, fundus, ocular, posterior vitreous detachment, retina, right, us, visual acuity, vitreous, present choroidal, ct, glaucoma, left, retina, retina is flat, retinal detachment, rhegmatogenous, sand, us, uveitis cataract, central, ct, retina, retinal detachment, right, surgery cataract, ct, diplopia, left, macula, retina, retinal detachment, rhegmatogenous, right, us floater, floaters, left, posterior vitreous detachment, presented, retina, retinal detachment, right, us, vitreous, vitreous haemorrhage, present choroidal, ct, glaucoma, left, retina, retina is flat, retinal detachment, rhegmatogenous, sand, us, uveitis va, cataract, ct, left, retina, right, surgery choroidal, ct, glaucoma, left, retina, retina is flat, retinal detachment, rhegmatogenous, sand, us, uveitis va, ache, anterior, cataract, ct, fundus, left, myopic, ocular, retina, right, surgery, us va, anterior, bilateral, cataract, ct, cyst, diabetes, diabetic retinopathy, fluorescein, fluorescein angiography, fundoscopy, left, macula, macular, neovascular, neovascularisation, ocular, periphery, right, tic, visual acuity, yag capsulotomy cataract, ct, right, surgery cataract, ct, distortion, epiretinal membranes, retina, ring, surgery, tic, us, vitreous va, bilateral, cataract, ct, distortion, dry, left, macula, macular, pet, retina, right, surgery, tic, us va, anterior, aphakic, cataract, central, central retinal vein occlusion, ct, fundus, peripheral, retina, right, us, visual acuity cataract, ct, fundus, left, retina, rhegmatogenous, surgery, us, visual acuity, ultrasound, present ache, cataract, ct, macula, macular, retina, right, us va, antibiotics, cataract, ct, endophthalmitis, oval, ring, surgery, tic va, antibiotics, cataract, ct, endophthalmitis, oval, ring, surgery, tic va, age related macular degeneration, cataract, choroidal, choroidal neovascular membrane, ct, left, macula, macular, neovascular, neovascular membrane, ocular, right, surgery, us, visual acuity cataract, ct, left, ocular, retina, surgery cataract, ct, progressive, retina, retinal detachment, ring, surgery, us, vitreous, young va, cataract, ct, inflammation, left, ocular, oval, retina, ring, uveitis ache, anterior, cataract, ct, fundus, left, ocular, retina, right, surgery, us, visual acuity abnormal, ache, anterior, cataract, ct, fundus, left, ocular, retina, right, us va, cataract, ct, oval, retina, surgery abnormal, ache, anterior, cataract, ct, fundus, left, ocular, retina, right, surgery, us, visual acuity va, aphakic, cataract, ct, diffuse, leakage, left, macula, periphery, retina, right, ring, us, visual acuity va, cataract, ct, macula, oval, retina, retinal detachment, right, ring, sand, tic va, bilateral, conjunctivitis, ct, ring, rosacea, scarring, tic cataract, ct, surgery, tic, us va, cataract, ct, ocular, right, tic, us ct, glaucoma, ocular, right, us bilateral, ct, glaucoma, left, ocular, right, us glaucoma, red eye, red eyes va, allergy, anterior, antibiotics, bilateral, ct, glaucoma, red eye, red eyes, redness, tic, visual acuity cataract, ct, rash, surgery, tic cataract, ct, left, right alp, bilateral, ct, glaucoma, left, ocular, us alp, bilateral, ct, glaucoma, left, ocular, us va, bilateral, ct, glaucoma, ocular, tic, us ache, bilateral, ct, glaucoma, gonioscopy, left, ocular, open angles, right, tic, us, present va, cataract, ct, macula, macular, presented, right, surgery, us, present va, anxiety, blurred, conjunctivitis, ct, us va, anterior, bilateral, blepharitis, fundus, hypermetropia, intermittent, left, ocular, right, ring, temporal, tic, us, visual acuity, visual loss, complain ct, glaucoma, left, ocular, tic cataract, ct, left, ocular, ocular hypertension, right, surgery va, ct, glaucoma, right va, ct, glaucoma, ocular, oval, us va, cataract, ct, retina, retinal detachment, right, surgery, tic, visual acuity va, cataract, ct, left, tic, local anaesthetic va, ache, ct, glaucoma, ocular, retina, right, us, refraction cataract, ct, left, ocular, ocular hypertension, right, surgery cataract, ct, gradual, right ct, glaucoma, ocular, tic, us aphakic, ct, glaucoma, left, us, visual fields va, glaucoma, ocular, ocular hypertension conjunctivitis, ct, left, right, ring va, ct, glaucoma, ocular, right, temporal, tic, us alp, bilateral, ct, glaucoma, left, ocular, right, sand, us va, ct, glaucoma, ocular, retina, us va, cataract, ct, right va, cataract, ct, left, oval, retina va, ct, glaucoma, right ct, fundus, glaucoma, left, macula, oedema, retina, us alp, ct, glaucoma, left, sand, surgery, us glaucoma, ocular ct, glaucoma, ocular, sand, tic, us, visual fields va, cataract, ct, deteriorating vision, kp, ring, surgery, us confusion, glaucoma, gradual, ocular, surgery, us va, flashing lights, posterior vitreous detachment, retina, retinal detachment, ring, us, vitreous va, bilateral, ct, glaucoma, left, responsive, retina, right, surgery, swelling, tic, unresponsive, young fundus, glaucoma, left, retina, us ct, glaucoma, left, macula, macular, us va, ct, floater, floaters, posterior vitreous detachment, retina, right, ring, tic, us, vitreous va, ct, glaucoma, ocular cataract, ct, left, ocular, tic ct, glaucoma, ocular, tic, us, present glaucoma va, bilateral, ct, glaucoma, left, responsive, retina, right, surgery, swelling, tic, unresponsive, young cataract, ct, glare, ocular, right, us ct, glaucoma, left, ocular, right, tic, us va, posterior vitreous detachment, retina, ring, tic, us, vitreous va, ct, glaucoma, ocular anxiety, bilateral, glaucoma, ocular, ocular hypertension, tic, us va, anterior, flashes, floater, floaters, left, posterior vitreous detachment, retina, right, tic, us, visual acuity, vitreous cataract, ct, left, right, surgery, us va, glaucoma, ocular va, cataract, ct, left, right, surgery left, macula, macular, posterior vitreous detachment, retina, retinal detachment, us, vitreous va, ache, cataract, ct, diabetic retinopathy, fundus, left, macula, macular, ocular, retina, retinal detachment, right, sand, tic, us, visual acuity, present glaucoma, gonioscopy, us, present alp, ct, glaucoma, left, right, surgery, us bilateral, ct, glaucoma, left, right, tic va, cataract, ct, left, right, surgery, us, present va, glaucoma va, central, ct, fundus, left, macula, macular, posterior vitreous detachment, retina, ring, surgery, us, visual acuity, visual loss, vitreous, present va, cataract, ct, ocular, retina, retinal detachment, right, ring, sand, surgery va, cataract, ct, left, retina, us ct, glaucoma, left, ocular, right, tic, us ct, glaucoma, left, ocular, right, tic, us ct, glaucoma, macula, swollen glaucoma, tic, us va, glaucoma, left, ocular, ocular hypertension, right, surgery, us alp, ct, glaucoma, left, ocular, right, tic, present anterior, anterior chamber, ct, glaucoma, us glaucoma, right, us, short of breath va, anterior, fundus, left, posterior vitreous detachment, retina, retinal detachment, right, subretinal fluid, superonasal, us, vitreous cataract, ct, left, ocular, retina, right, tic, us, visual acuity va, cataract, ct, macula, macular, presented, retina, retinal detachment, right, ring, surgery, tic, us, present ache, cataract, ct, fundus, left, macula, macular, ocular, retina, right, ring, scarring, us, visual acuity, present va, ache, fundus, glaucoma, left, ocular, retina, us, uveitis, visual acuity glaucoma, left, ocular, ring, tic, us, visual fields va, cataract, ct, floater, floaters, left, obscured, ocular, photopsia, retina, retinal detachment, right, ring, surgery, us, vitreous, vitreous haemorrhage anxiety, glaucoma, us va, cataract, ct, floater, floaters, left, obscured, ocular, photopsia, retina, retinal detachment, right, ring, surgery, us, vitreous, vitreous haemorrhage, yag capsulotomy ct, floater, floaters, posterior vitreous detachment, retina, right, ring, surgery, us, vitreous cataract, ct, retina, retinal detachment, surgery, us, removed abrasion, anterior, anterior chamber, corneal abrasion, ct, ocular, peripheral, retina, right, us, visual acuity ct, glaucoma, left, right, surgery, us, present abrasion, anterior, anterior chamber, corneal abrasion, ct, ocular, peripheral, retina, right, us, visual acuity abrasion, anterior, anterior chamber, corneal abrasion, ct, ocular, peripheral, retina, right, us, visual acuity ache, cataract, ct, fundus, left, ocular, retina, us, visual acuity ache, cataract, ct, fundus, left, ocular, retina, us, visual acuity ache, anterior, cataract, ct, fundus, left, ocular, retina, surgery, us ache, anterior, cataract, ct, fundus, left, ocular, retina, us anterior, anterior chamber, blurred, blurred vision, cataract, ct, left, retina, retinal detachment, right, sand, tic anterior, anterior chamber, blurred, blurred vision, cataract, ct, left, retina, retinal detachment, right, sand, tic glaucoma, tic, us bilateral, ct, glaucoma, ocular, retina, retinal detachment, right, sand, tic va, ct, glaucoma, left, oval, us dry, dry eye, dry eyes, ocular, tic, complain va, cataract, ct, left, oval, retina, surgery, us, visual acuity va, ache, cataract, ct, oval, retina, right va, ache, cataract, ct, left, oval, retina, tic va, bilateral, cataract, ct, protruding, retina, retinal detachment, right, surgery ache, anterior, cataract, ct, fundus, left, ocular, retina, surgery, us va, abnormal, ache, fundus, glaucoma, gonioscopy, left, ocular, retina, right, us, visual acuity va, contact lens, ct, left, posterior vitreous detachment, retina, retinal detachment, right, ring, surgery, us, vitreous abnormal, anterior, cataract, ct, fundus, left, ocular, oedema, red reflex, retina, right, tic, us, visual acuity ache, cataract, ct, left, retina, ring, us, vitreous, vitreous haemorrhage ache, ct, fundus, glaucoma, left, ocular, retina, right, ring, us, visual acuity, yag capsulotomy ache, anterior, cataract, ct, fundus, ocular, retina, right, us, visual acuity ache, anterior, cataract, ct, flare, fundus, left, ocular, retina, right, temporal, tic, us, visual acuity ache, fundus, glaucoma, left, ocular, retina, right, us, visual acuity cataract, ct, left, retina, retinal detachment, right, sand, surgery bilateral, cataract, ct, left, macula, ocular, retina, retinal detachment, right, ring, visual acuity va, ache, anterior, cataract, ct, flare, fundus, ocular, retina, right, us, visual acuity va, cataract, contact lens, ct, dry, macula, macular, ring, surgery, refraction cataract, ct, fundus, left, macula, macular, ocular, retina, retinal detachment, right, surgery, us, visual acuity bilateral, cataract, contact lens, ct, left, macula, macular, retina, retina is flat, right, ring, scarring, surgery, us, visual acuity bilateral, cataract, contact lens, ct, left, macula, macular, retina, retina is flat, right, ring, scarring, surgery, us, visual acuity va, ache, anterior, cataract, ct, fundus, left, ocular, oval, retina, right, us, visual acuity, vitreous anterior, cataract, ct, flat retina, fundus, left, ocular, retina, us cataract, ct, fundus, left, macula, macular, ocular, retina, retinal detachment, right, surgery, us, visual acuity va, ache, cataract, ct, cyst, fundus, left, ocular, oval, retina, right, surgery, us, visual acuity, present ache, cataract, ct, fundus, left, macula, ocular, retina, right, us, visual acuity ct, fundus, glaucoma, macula, macular, ocular, retina, retinal detachment, right, ring, temporal, us, uveitis, visual acuity, vitreous cataract, ct, fundus, left, macula, macular, ocular, retina, retinal detachment, right, surgery, us, visual acuity bilateral, glaucoma, left, ocular, ocular hypertension, us, present bilateral, glaucoma, left, ocular, ocular hypertension, us, present va, ache, anterior, cataract, ct, left, retina, retina is flat, retinal detachment, right, surgery, us, visual acuity, yag capsulotomy va, cataract, ct, ocular, peripheral, retina, retinal detachment, right, us va, cataract, ct, left, tic, us, vitreous, vitreous haemorrhage va, ache, cataract, ct, ocular, retina, retinal detachment, right, surgery, us, yag capsulotomy va, ache, cataract, ct, retina, retina is flat, right ache, fundus, glaucoma, left, ocular, retina, us, visual acuity va, cataract, ct, fundus, left, retina, us ct, flashing lights, floater, floaters, fundus, left, posterior vitreous detachment, retina, superonasal, us, vitreous va, cyst, left, macula, macular, posterior vitreous detachment, right, surgery, us, vitreous, present va, ache, cataract, ct, left, ocular, oval, pet, retina, retina is flat, retinal detachment, us va, anterior, cataract, central, ct, cyst, fluorescein, fundus, left, macula, macular, macular oedema, oedema, retina, right, surgery, us, visual acuity, vitreous, fluorescein angiogram cataract, ct, retina, ring, tic ct, left, posterior vitreous detachment, retina, retinal detachment, ring, surgery, temporal, us, visual loss, vitreous, vitreous haemorrhage, ultrasound ache, cataract, ct, fundus, left, ocular, retina, right, us, visual acuity, present va, cataract, ct, retina, retinal detachment, surgery va, cataract, choroidal, ct, left va, abnormal, anterior, cataract, choroidal, ct, cyst, diabetes, leakage, left, macula, oedema, retina, surgery, us va, cataract, choroidal, ct, fluorescein, fluorescein angiography, left, retina, surgery, tic va, anterior, cataract, ct, fundoscopy, left, ocular, retina, uveitis bilateral, ct, depression, glaucoma, us bilateral, ct, depression, glaucoma, us bilateral, glaucoma, us bilateral, cataract, ct, left, surgery conjunctivitis, ct, ocular, recurrent, us, young, present glaucoma, ocular, screen, visual fields va, ache, ct, glaucoma, left, retina, retinal detachment, ring, us, vitreous, vitreous haemorrhage, present contact lens, ct, glare, glaucoma, left, ocular, peripheral, pupillary defect, right, tic, us va, bilateral, blepharitis, ct, discomfort, ocular, right, us ct, glaucoma, left, right, us ct, glaucoma, left, myopia, ocular, us va, abnormal, anterior, blurred, blurred vision, ct, eye pain, glare, glaucoma, presented, redness, right, us, visual acuity, present ct, glaucoma, ocular, us va, ache, anterior, anterior chamber, ct, dilated, floater, floaters, headache, myopia, ocular, photopsia, posterior vitreous detachment, retina, right, ring, us, visual acuity, vitreous, complain va, anterior, anterior chamber, blepharitis, left, ocular, pain around the right eye, retina, right, ring, tic, us, vitreous, dizziness, complain cataract, ct, ocular, right, surgery va, cataract, ct, floater, floaters, left, peripheral, retina, retinal detachment, retinal hole, tic, us cataract, ct, gradual, right va, ct, glaucoma, inflammed, left, ocular, us va, cataract, ct, left, retina, retinal detachment, surgery alp, cataract, ct, right, us, visual fields va, flashing lights, floater, floaters, posterior vitreous detachment, retina, retinal detachment, ring, us, vitreous chalazion, recurrent cataract, ct, left, right, surgery cataract, choroidal, ct, fracture, left, retina, right, sand, tic, trauma va, ache, flashes, gpa, headache, left, ocular, posterior vitreous detachment, retina, ring, temporal, us, vitreous, complain ct, difficulty reading, glaucoma, left, ocular, tic va, cataract, ct, left, reduced vision, retina, right, refraction va, ache, cataract, ct, retina, right cataract, ct, left, retina, right, sand, tic, trauma alp, cataract, ct, left, ocular, right, surgery, us glaucoma, tic, us bilateral, glaucoma, intermittent, left, peripheral va, cataract, complaining, ct, distortion, double vision, fluorescein, intermittent, left, neovascular, neovascular membrane, phoria, right, surgery, fluorescein angiogram, yag capsulotomy, complain glaucoma, right, us glaucoma va, glaucoma, inflammation, left, ocular, right, us ct, glaucoma, left, right, refraction va, alp, ct, glaucoma, right, surgery, us conjunctivitis, ct, young ct, glaucoma, us, uveitis glaucoma, ocular, ring, tic, us bilateral, cataract, ct, left, ocular, ocular hypertension, us, visual fields, present va, ache, anterior, cataract, ct, left, retina, temporal, us, vitreous glaucoma, ocular va, glaucoma, ocular, right, tic, visual fields va, cataract, ct, retina, ring, surgery va, cataract, ct, ocular, ring, surgery glaucoma, ocular, tic, us cataract, ct, flare, left bilateral, cataract, ct, left, ocular, ocular hypertension, us, visual fields, present glaucoma, left, right, us diabetes, diabetic retinopathy, gait, glaucoma, retina, tic, us ct, glaucoma, left, right, us va, alp, ct, glaucoma, right, surgery, us va, alp, ct, glaucoma, right, surgery, us complex, ct, discomfort, glaucoma, ocular, recurrent, scleritis, surgery, us, present diabetes, diabetic retinopathy, gait, glaucoma, retina, tic, us va, bilateral, cataract, central, choroidal, ct, fundus, left, lump, lumps, ocular, retina, right, tic, us, vitreous va, anterior, cataract, ct, flat retina, fundus, left, rash, retina, retinal detachment, right, surgery, us, visual acuity ct, glaucoma complex, ct, discomfort, glaucoma, ocular, recurrent, scleritis, surgery, us, present ct, posterior vitreous detachment, retina, retinal hole, us, vitreous cataract, ct, left, ocular, sand, tic va, alp, ct, glaucoma, right, surgery, us va, cataract, ct, deteriorating vision, retina, right, ring, surgery, visual loss va, alp, ct, glaucoma, right, surgery, us cataract, ct, left, right, refraction ct, glaucoma complex, ct, discomfort, glaucoma, ocular, recurrent, scleritis, surgery, us, present ct, glaucoma, surgery, us va, alp, glaucoma, us va, bilateral, ct, flashing lights, posterior vitreous detachment, retina, retinal detachment, ring, us, vitreous cataract, ct, discomfort, left, ocular, right, surgery, tic, us va, cataract, ct, retina, retinal detachment, right, ring, surgery va, cataract, ct, retina, retinal detachment, surgery, present cataract, ct, left amblyopia, blepharitis, left, ocular, right, tear film, tic glaucoma va, alp, glaucoma, left, tic, us glaucoma, right, surgery glaucoma, right, surgery va, asteroid hyalosis, ct, dilated, floater, floaters, posterior vitreous detachment, retina, right, ring, us, visual acuity, vitreous amblyopia, ct, glaucoma, ocular, tic, us, visual fields cataract, ct, left, ocular, right, tic cataract, ct, left, tic va, cataract, ct, retina conjunctivitis, ct va, anterior, anterior chamber, cataract, ct, diabetes, ocular, retina, right, surgery, tic, young, primary chalazion, ct, left ct, glaucoma, progressive, us va, ache, glaucoma, left, ocular, retina, retinal detachment, right, surgery, tic, us ct, glaucoma, tic, us va, cataract, ct, retina, right, surgery blepharitis, irritable, ptosis, sand, visual fields, complain age related macular degeneration, cataract, ct, epithelial, left, macula, macular, macular oedema, oedema, retina, right, us anxiety, diabetes, diabetic retinopathy, glaucoma, tic, us cataract, ct, left, ocular, right, refraction va, glaucoma, ocular, sand, surgery ct, glaucoma, progressive, right, visual field loss ct, glaucoma, left, right, us ct, glaucoma, left, right, us, visual fields cataract, ct, macula, macular, tic va, bilateral, ct, glaucoma, left, ocular, right, surgery cataract, ct, right, surgery blepharitis, ct, eye lid ct, glaucoma, us glaucoma, ocular, tic, us alp, bilateral, glaucoma, ring, sand, tic ct, glaucoma, ocular, ocular hypertension ct, glaucoma, left, visual fields bilateral, ct, glaucoma, left, right, us va, bilateral, cataract, ct, left, macula, macular, presented, right, surgery, present bilateral, cataract, ct, left, pupillary defect, right, ring, surgery, us, present glaucoma, right, us va, glaucoma, left, ocular, us va, ache, amsler chart, anxiety, cataract, ct, drusen, headache, intermittent, migraine, ocular, retina, sinus, us glaucoma, ocular, ring, us va, abnormal, anterior, ct, fundus, left, myopia, ocular, posterior vitreous detachment, retina, retinal detachment, retinal hole, right, temporal, tic, us, vitreous discomfort, glaucoma, keratitis, left, ocular, present va, bilateral, cataract, central, central retinal vein occlusion, ct, retina, surgery, us, present cataract, ct, right, surgery, us va, ache, asymptomatic, contact lens, ct, myopia, posterior vitreous detachment, retina, retinal detachment, tic, us, vitreous age related macular degeneration, bilateral, cataract, ct, left, macula, macular, ocular, ocular hypertension, right, sand glaucoma, left, right, surgery, us, visual field loss cataract, ct, left, us, removed va, age related macular degeneration, bilateral, cataract, ct, deteriorating vision, diabetic retinopathy, dilated, drusen, glare, left, macula, macular, progressive, retina, right, ring, surgery, tic, us, visual acuity, present va, cataract, ct, macula, macular, retina, surgery blepharitis, ct, us va, ache, bilateral, complaining, dilated, headache, intermittent, left, posterior vitreous detachment, retina, right, ring, tic, us, visual acuity, vitreous, complain, present va, cataract, ct, left, macula, macular, right ct, glaucoma, ocular, us va, cataract, choroidal, ct, left, retina, surgery, us, present anxiety, bilateral, cataract, ct, left, ocular, right, tic, us, visual fields blepharitis, flare cataract, ct, right va, glaucoma, ring, surgery, tic, us ct, glaucoma, retina, right, ring, tic, us va, cataract, ct, fundus, left, retina, right, temporal, us, visual acuity, vitreous glaucoma, ocular, progressive, right, surgery, tic, us ct, cyst, glaucoma, left, retina, right, tic, us, present va, abrasion, corneal abrasion, pet, retina, right, tic, us va, anterior, anterior chamber, cataract, ct, fundus, inflammation, left, macula, macular, retina, right, us cataract, ct, left, right, surgery, refraction va, anterior, cataract, ct, flat retina, fundus, left, oval, retina, us, visual acuity bilateral, glaucoma, macula, macular, ocular, right, rns, tic cataract, ct, glare, macula, macular, retina, retinal detachment, right, surgery, tic va, ache, fundus, glaucoma, ocular, retina, right, us, visual acuity ct, cyst, glaucoma, left, retina, right, tic, us, present cataract, ct, left, us alp, glaucoma, left, tic, visual fields va, ache, bilateral, floater, floaters, glaucoma, headache, intermittent, left, migraine, ocular, photopsia, retina, right, ring, screen, tic, us, visual acuity, vitreous, complain alp, ct, glaucoma, ocular, swollen, us va, ct, glaucoma, left, ocular, retina, retina is flat, ring, visual acuity ache, anterior, cataract, ct, fundus, left, ocular, retina, right, surgery, us, vision has deteriorated, visual acuity, present cataract, ct, myopia, progressive, right, surgery, us, present ct, glaucoma, retina, right, ring, tic, us va, age related macular degeneration, cataract, ct, macula, macular, retina, surgery, tic va, bilateral, posterior vitreous detachment, retina, retinal detachment, ring, us, vitreous glaucoma, ocular, us glaucoma, myopia, right, temporal, tic, us, present glaucoma, ocular, us va, cataract, ct, retina, surgery glaucoma, ocular, us ct, glaucoma, ocular, right, tic, visual fields anterior, cataract, ct, ocular, retina, retinal detachment, right, sand, removed va, cataract, ct, retina va, ache, ct, glaucoma, left, macula, macular, ocular, ocular hypertension, retina, retinal detachment, right, surgery, us va, cataract, ct, left, retina, surgery, us cataract, ct, retina, retinal detachment, surgery, us va, bilateral, ct, glaucoma, itching, left, ocular, retina, right, tic, us, vertical, vitreous, vitreous haemorrhage bilateral, cataract, ct, dermatochalasis, retina, right, tic, us, vitreous, vitreous haemorrhage va, ache, cataract, ct, left, retina va, anterior, cataract, ct, fundoscopy, left, ocular, retina, tic va, glaucoma, pet, retina, retinal detachment, surgery ache, anterior, aphakic, cataract, contact lens, ct, ocular, retina cataract, ct, glare, left, macula, retina, ring, surgery, tic bilateral, blepharitis, ct, difficulty reading, lid margins, macula, macular, multiple sclerosis, ring, refraction va, glaucoma, left, ocular, retina, surgery, us, visual fields alp, bilateral, cataract, ct, left, retina, retinal detachment, ring, sand anterior, cataract, chorioretinal, ct, glare, ocular, retina, right, surgery cataract, ct, left, retina, right, us, visual acuity, vitreous va, cataract, ct, retina, surgery va, choroidal, ct, glaucoma, left, retina, retinal detachment, right, surgery, us ct, glaucoma, left, retina, right, surgery, us va, choroidal, ct, glaucoma, left, retina, retinal detachment, right, surgery, us va, ache, cataract, choroidal, contact lens, ct, photophobia, retina, right, surgery, us va, choroidal, ct, glaucoma, left, retina, retinal detachment, right, surgery, us va, ct, glaucoma, left, retina, retinal detachment, right, us va, ct, glaucoma, left, ocular, retina, tic, us va, bilateral, cataract, ct, retina va, cataract, ct, surgery va, cataract, ct, retina, surgery va, alp, aphakic, cataract, ct, presented, retina, retinal detachment, right, present va, ache, cataract, ct, pet, retina, retinal detachment, right bilateral, cataract, ct, left, retina, retinal detachment, right, sand, us, vitreous, vitreous haemorrhage, removed ache, blepharitis, fundus, left, ocular, retina, right, us, visual acuity va, cataract, ct, ocular, oval, retina, right, surgery, us va, ct, left, posterior vitreous detachment, retina, retinal detachment, surgery, tic, us, vitreous va, complaining, floater, floaters, fundoscopy, left, posterior vitreous detachment, retina, retina is flat, right, tic, us, vitreous, complain va, cataract, ct, ocular, retina, retinal detachment, right, surgery, us va, cataract, ct, right, surgery, us cataract, ct, inflammation, retina, right, ring, surgery, tic, trauma, us, vitreous ache, cataract, ct, left, macula, macular, retina, retinal detachment, surgery, us bilateral, cataract, ct, gradual, left, ocular, right, ring, tic, us, visual acuity, local anaesthetic cataract, ct, left, retina, rns, us va, cataract, ct, left, retina, retinal detachment, surgery, us va, anterior, cataract, ct, flat retina, fundus, left, retina, surgery, us, visual acuity va, anterior, cataract, ct, left, lens opacity, ocular, opacity, retina, visual acuity va, cataract, ct, left, retina, retinal detachment cataract, ct, left, pet, retina, ring cataract, ct, left, ocular, pet, retina, surgery va, ct, glaucoma, left, ocular, surgery, tic, us alp, glaucoma, left, right, sand, us glaucoma, ocular, ocular hypertension, visual fields glaucoma, left, ocular, progressive, right, surgery, us, present ct, glaucoma, left, ocular, right, us, visual fields ct, glaucoma, left, ocular, right, us, visual fields glaucoma, left, painful, right, tic, us bilateral, ct, glaucoma, gonioscopy, left, ocular, open angles, peripheral, progressive, right, temporal, tic, us va, cataract, ct, left, macula, macular, retina, right, ring, surgery, tic glaucoma, tic, trauma alp, glaucoma, hypotension, left, us bilateral, ct, glaucoma, left, ocular bilateral, cataract, ct, cyst, macula, macular, macular oedema, oedema, right, surgery bilateral, ct, glaucoma, ocular, peripheral, sand alp, aphakic, glaucoma, tic va, cataract, ct, retina, right, surgery, present glaucoma, ocular, ocular hypertension glaucoma, ocular, us alp, glaucoma, ocular, right, present va, conjunctivitis, ct, us ct, glaucoma, ocular, right, tic, us, present glaucoma, left, right, sand, tic, us va, blepharitis, ct, left, retina, right, vasculopathy va, bilateral, glaucoma, left, ocular, right, tic, us bilateral, ct, glaucoma, left, sand, us, visual field loss ct, glaucoma, ring va, anterior, fundoscopy, left, ocular, posterior vitreous detachment, retina, retinal detachment, right, ring, us, visual acuity, vitreous, vitreous haemorrhage, ultrasound, present bilateral, cataract, ct, present glaucoma, left, right, sand, surgery, tic, us, present va, cataract, complaining, ct, retina, right, ring, surgery, us, visual acuity, complain va, ache, glaucoma, left, macula, macular, ocular, presented, retina, retinal detachment, sand, present conjunctivitis, ct, pet, tic bilateral, glaucoma, left, ocular, right, tic, us, present ct, glaucoma, left, right, sand, tic va, glaucoma, ocular, visual fields bilateral, ct, glaucoma, tic, us va, ache, floater, floaters, left, posterior vitreous detachment, retina, right, ring, tic, us, vitreous alcohol, anterior, anterior chamber, blurred, blurred vision, ct, glaucoma, gonioscopy, painful, painful eye, right, tic, us glaucoma, inflammed, trauma glaucoma, ocular, right, visual fields ache, cataract, ct, retina va, bilateral, ct, glaucoma, left, myopia, oval, retina, retina is flat, retinal detachment, right, sand, surgery, tic va, age related macular degeneration, ct, glaucoma, macula, macular, ocular, refraction ct, glaucoma, irritation in the left eye, left, us glaucoma, ocular, visual fields va, ache, anterior, anterior chamber, dilated, esr, flashing lights, floater, floaters, headache, intermittent, intracranial pressure, pet, posterior vitreous detachment, retina, right, ring, tic, us, visual acuity, visual symptoms, vitreous va, blurred, blurred vision, cataract, ct, gritty, left, retina, retinal detachment, right, ring, surgery, tear film, present va, cataract, ct, retina, right glaucoma, tic, us, visual fields ct, glaucoma, ocular, right fundus, glaucoma, ocular, retina, right, us, visual acuity va, ct, glaucoma, left, ocular, right, us bilateral, ct, epithelial, glaucoma, left, macula, macular, myopic, ocular, right, tic, us cataract, ct, left, ring, us ct, fundus, glaucoma, ocular, retina, right, us, visual acuity ct, glaucoma, left, ocular, right, tic glaucoma, ocular va, ache, blurred, cataract, ct, left, macula, oval, retina, retinal detachment, sand, temporal va, bilateral, ct, glaucoma, left, retina, ring, tic, us, visual fields bilateral, cataract, ct, ocular, temporal, tic, visual fields, bite cataract, ct, left, ocular, ocular hypertension, rns, sand, present central, central retinal vein occlusion, ct, glaucoma, retina, right, us va, abnormal, amblyopia, ct, fundus, left, ocular, posterior vitreous detachment, retina, right, squint, us, visual acuity, vitreous, present bilateral, cataract, ct, ocular, temporal, tic, visual fields, bite va, anterior, cataract, central, ct, flat retina, fundus, left, retina, retinal detachment, us, visual acuity conjunctivitis, ct, intermittent, squint, sticky eye, sticky eyes, tic, visual acuity va, cataract, ct, oval, retina, tic cataract, ct, left, right, refraction cataract, ct, left, ocular, ocular hypertension, rns, sand, present va, ache, cataract, ct, left, ocular, retina, us, vitreous, vitreous haemorrhage va, ache, anterior, cataract, ct, fundus, left, macula, macular, ocular, oval, retina, right, us, visual acuity va, ache, anterior, cataract, ct, dry, fundus, left, macula, macular, ocular, oval, retina, right, surgery, us, visual acuity cataract, ct, retina, right, surgery va, cataract, ct, left, ocular, retina ache, cataract, ct, left, retina, right, surgery ache, cataract, ct, left, retina, right, surgery cataract, ct, left, reduced vision, retina, right, ring, us, visual acuity, vitreous anterior, bilateral, cataract, ct, fundus, macula, macular, pupillary defect, retina, retinal detachment, right, ring, surgery, us, visual acuity ache, anterior, cataract, ct, flare, fundus, left, ocular, retina, right, surgery, us, visual acuity va, glaucoma, left, macula, macular, oval, presented, present va, anterior, cataract, ct, left, oval, retina, retina is flat, retinal detachment, us, visual acuity va, ache, bilateral, cataract, ct, left, macula, macular, retina, retinal detachment, us, vitreous, vitreous haemorrhage, ultrasound va, cataract, choroidal, ct, distortion, left, retina, retinal detachment, ring, sand, surgery, us, present va, ache, fundus, glaucoma, ocular, retina, right, ring, us, visual acuity ache, cataract, ct, fundus, left, ocular, retina, right, slit lamp, us, visual acuity, slit lamp examination, present va, ct, fundus, glaucoma, left, macula, ocular, oval, retina, ring, scarring, us, visual acuity va, cataract, ct, left, pet, sand va, ache, anterior, cataract, ct, fundus, left, ocular, retina, right, us, visual acuity va, cataract, ct, gradual, left, oval, sand, us, removal of corneal sutures va, cataract, choroidal, contact lens, ct, distortion, left, ocular, retina, retinal detachment, ring, sand, surgery, us, present va, ache, bilateral, cataract, ct, left, macula, macular, retina, retinal detachment, us, vitreous, vitreous haemorrhage, ultrasound ache, cataract, ct, left, ocular, retina, surgery, us, visual acuity va, cataract, ct, ocular, oval, retina, right anterior, cataract, ct, ocular, retina, right, ring, surgery, us, visual acuity va, ache, bilateral, cataract, ct, left, macula, macular, retina, retinal detachment, us, vitreous, vitreous haemorrhage, ultrasound va, ache, bilateral, cataract, ct, left, macula, macular, retina, retinal detachment, us, vitreous, vitreous haemorrhage, ultrasound va, ache, cataract, ct, ocular, retina, right, visual acuity va, ache, cataract, ct, ocular, retina, right cataract, ct, left, pinhole, retina, right, ring, surgery, tic, us, refraction cataract, ct, retina, right, surgery, us, refraction, removed ct, exotropia, glaucoma, retina, retinal detachment, right, tic, us, uveitis ct, exotropia, glaucoma, retina, retinal detachment, right, tic, us, uveitis va, anterior, cataract, choroidal, ct, distortion, drusen, left, macula, macular, neovascular, neovascularisation, retina, right, surgery, tic, unilateral, us, visual acuity va, ache, anterior, cataract, ct, fundus, left, ocular, oval, retina, right, temporal, tic, us, visual acuity, vitreous va, cataract, ct, fundus, gradual, left, macula, macular, pet, retina, ring, surgery, tic, trauma, us, visual acuity va, ache, cataract, ct, fundus, retina, retinal detachment, right, ring, surgery, us, visual acuity, vitreous, vitreous haemorrhage ache, cataract, ct, fundus, retina, retinal detachment, right, surgery, us, vitreous, vitreous haemorrhage va, ache, cataract, choroidal, ct, retina, retinal detachment, right, ring, surgery, temporal, us, vitreous, vitreous haemorrhage, ultrasound va, ache, cataract, ct, fundus, retina, retinal detachment, right, ring, surgery, us, visual acuity, vitreous, vitreous haemorrhage cataract, central, ct, opacity, retina, retinal detachment, surgery va, ache, anterior, cataract, ct, fundus, ocular, retina, right, us, visual acuity va, ache, anterior, cataract, ct, left, ocular, retina va, cataract, ct, recurrent, retina, right, rns anterior, cataract, ct, fundus, left, loss of vision, retina, ring, sudden loss of vision, surgery, us, visual acuity, vitreous va, cataract, ct, pet, retina, ring, surgery, tic, removed ache, anterior, cataract, ct, fundus, retina, right, ring, surgery, tic, us bilateral, cataract, ct, glare, left, retina, right, ring, surgery, us cataract, ct, flat retina, fundoscopy, inflammation, left, macula, macular, ocular, retina, us, visual acuity ache, alp, ct, diabetic retinopathy, fundus, glaucoma, retina, right, ring, surgery, tic, us, visual acuity, diode laser cataract, ct, retina, retinal detachment, right, surgery glaucoma, tic, present va, central, central retinal vein occlusion, glaucoma, neovascular, neovascularisation, retina, right, tic, us, present va, central, central retinal vein occlusion, glaucoma, neovascular, neovascularisation, retina, us ct, glaucoma, us va, abnormal, bilateral, ct, glaucoma, ocular, retina, tic, us, visual fields, primary va, bilateral, glaucoma, left, tic, us, visual fields va, bilateral, glaucoma, left, tic, us, visual fields'"
      ]
     },
     "execution_count": 18,
     "metadata": {},
     "output_type": "execute_result"
    }
   ],
   "source": [
    "k"
   ]
  },
  {
   "cell_type": "code",
   "execution_count": 16,
   "metadata": {},
   "outputs": [
    {
     "data": {
      "text/plain": [
       "0       [abrasion,  corneal abrasion,  corneal erosion...\n",
       "1              [ct,  glaucoma,  tic,  us,  visual fields]\n",
       "2       [va,  ache,  cataract,  ct,  fundus,  left,  o...\n",
       "3       [va,  cataract,  ct,  pet,  retina,  ring,  su...\n",
       "4       [ache,  aphakic,  ct,  fundus,  glaucoma,  lef...\n",
       "                              ...                        \n",
       "1132    [va,  central,  central retinal vein occlusion...\n",
       "1133                                 [ct,  glaucoma,  us]\n",
       "1134    [va,  abnormal,  bilateral,  ct,  glaucoma,  o...\n",
       "1135    [va,  bilateral,  glaucoma,  left,  tic,  us, ...\n",
       "1136    [va,  bilateral,  glaucoma,  left,  tic,  us, ...\n",
       "Name: Symptoms2, Length: 1137, dtype: object"
      ]
     },
     "execution_count": 16,
     "metadata": {},
     "output_type": "execute_result"
    }
   ],
   "source": [
    "Letters[\"Symptoms2\"].str.split(\",\")"
   ]
  },
  {
   "cell_type": "code",
   "execution_count": null,
   "metadata": {},
   "outputs": [],
   "source": []
  },
  {
   "cell_type": "code",
   "execution_count": 21,
   "metadata": {
    "scrolled": true
   },
   "outputs": [],
   "source": [
    "# for i in range(1999, 2020):\n",
    "#     print(i)"
   ]
  },
  {
   "cell_type": "code",
   "execution_count": 1,
   "metadata": {
    "scrolled": true
   },
   "outputs": [
    {
     "name": "stdout",
     "output_type": "stream",
     "text": [
      "Working on year 1999 file\n"
     ]
    },
    {
     "ename": "NameError",
     "evalue": "name 'pd' is not defined",
     "output_type": "error",
     "traceback": [
      "\u001b[0;31m---------------------------------------------------------------------------\u001b[0m",
      "\u001b[0;31mNameError\u001b[0m                                 Traceback (most recent call last)",
      "\u001b[0;32m<ipython-input-1-79be46798630>\u001b[0m in \u001b[0;36m<module>\u001b[0;34m\u001b[0m\n\u001b[1;32m      3\u001b[0m \u001b[0;32mfor\u001b[0m \u001b[0mi\u001b[0m \u001b[0;32min\u001b[0m \u001b[0mrange\u001b[0m\u001b[0;34m(\u001b[0m\u001b[0;36m1999\u001b[0m\u001b[0;34m,\u001b[0m \u001b[0;36m2020\u001b[0m\u001b[0;34m)\u001b[0m\u001b[0;34m:\u001b[0m\u001b[0;34m\u001b[0m\u001b[0;34m\u001b[0m\u001b[0m\n\u001b[1;32m      4\u001b[0m     \u001b[0mprint\u001b[0m \u001b[0;34m(\u001b[0m\u001b[0;34m\"Working on year {} file\"\u001b[0m\u001b[0;34m.\u001b[0m\u001b[0mformat\u001b[0m\u001b[0;34m(\u001b[0m\u001b[0mi\u001b[0m\u001b[0;34m)\u001b[0m\u001b[0;34m)\u001b[0m\u001b[0;34m\u001b[0m\u001b[0;34m\u001b[0m\u001b[0m\n\u001b[0;32m----> 5\u001b[0;31m     \u001b[0mLetters\u001b[0m \u001b[0;34m=\u001b[0m \u001b[0mpd\u001b[0m\u001b[0;34m.\u001b[0m\u001b[0mread_csv\u001b[0m\u001b[0;34m(\u001b[0m\u001b[0;34m\"/Users/kamakshibansal/Moorfields/Letters/Cleaned_Letters/cleaned{}.csv\"\u001b[0m\u001b[0;34m.\u001b[0m\u001b[0mformat\u001b[0m\u001b[0;34m(\u001b[0m\u001b[0mi\u001b[0m\u001b[0;34m)\u001b[0m\u001b[0;34m)\u001b[0m\u001b[0;34m\u001b[0m\u001b[0;34m\u001b[0m\u001b[0m\n\u001b[0m\u001b[1;32m      6\u001b[0m     \u001b[0mLetters\u001b[0m\u001b[0;34m=\u001b[0m\u001b[0mLetters\u001b[0m\u001b[0;34m.\u001b[0m\u001b[0mdropna\u001b[0m\u001b[0;34m(\u001b[0m\u001b[0;34m)\u001b[0m\u001b[0;34m\u001b[0m\u001b[0;34m\u001b[0m\u001b[0m\n\u001b[1;32m      7\u001b[0m \u001b[0;34m\u001b[0m\u001b[0m\n",
      "\u001b[0;31mNameError\u001b[0m: name 'pd' is not defined"
     ]
    }
   ],
   "source": [
    "# number_of_files = 2\n",
    "\n",
    "for i in range(1999, 2020):\n",
    "    print (\"Working on year {} file\".format(i))\n",
    "    Letters = pd.read_csv(\"/Users/kamakshibansal/Moorfields/Letters/Cleaned_Letters/cleaned{}.csv\".format(i))\n",
    "    Letters=Letters.dropna()\n",
    "\n",
    "\n",
    "    b=Letters[\"LetterBody\"].map(clean_sentences).str.lower()\n",
    "    b=b.values.tolist()\n",
    "    k=' '.join(b)\n",
    "    z=k.split()\n",
    "\n",
    "    z1=list(dict.fromkeys(z))\n",
    "    wordFrequency = dict.fromkeys(z1,0 )\n",
    "    merge_dict= { **wordFrequency,**wordFrequency_name}\n",
    "\n",
    "    %timeit -n 1 -r 1 Letters['clean_sentence'] = Letters.LetterBody.progress_map(clean_sentences)\n",
    "    %timeit -n 1 -r 1 Letters['final_sentence'] = Letters.clean_sentence.progress_map(lambda c: clean_mr_and_remove_stopwords(c, merge_dict))\n",
    "\n",
    "    Letters= Letters.drop([\"PatKey\",\"clean_sentence\", \"SeqId\",\"LetterBodyX\"], axis=1)\n",
    "\n",
    "    Letters.to_csv(\"/Users/kamakshibansal/Moorfields/Letters/Anonymised/Letters_new_{}.csv\".format(i))\n",
    "    \n"
   ]
  },
  {
   "cell_type": "code",
   "execution_count": 1,
   "metadata": {},
   "outputs": [],
   "source": [
    "ab= \"abrasion, corneal abrasion, corneal erosion, ct, left, recurrent, us\""
   ]
  },
  {
   "cell_type": "code",
   "execution_count": 5,
   "metadata": {},
   "outputs": [],
   "source": [
    "k= ab.split(\",\")"
   ]
  },
  {
   "cell_type": "code",
   "execution_count": 6,
   "metadata": {},
   "outputs": [],
   "source": [
    "z11=list(dict.fromkeys(k))"
   ]
  },
  {
   "cell_type": "code",
   "execution_count": 7,
   "metadata": {},
   "outputs": [],
   "source": [
    "wordFre = dict.fromkeys(z11,0 )"
   ]
  },
  {
   "cell_type": "code",
   "execution_count": 8,
   "metadata": {},
   "outputs": [
    {
     "data": {
      "text/plain": [
       "{'abrasion': 0,\n",
       " ' corneal abrasion': 0,\n",
       " ' corneal erosion': 0,\n",
       " ' ct': 0,\n",
       " ' left': 0,\n",
       " ' recurrent': 0,\n",
       " ' us': 0}"
      ]
     },
     "execution_count": 8,
     "metadata": {},
     "output_type": "execute_result"
    }
   ],
   "source": [
    "wordFre"
   ]
  },
  {
   "cell_type": "code",
   "execution_count": null,
   "metadata": {},
   "outputs": [],
   "source": []
  }
 ],
 "metadata": {
  "kernelspec": {
   "display_name": "Python 3",
   "language": "python",
   "name": "python3"
  },
  "language_info": {
   "codemirror_mode": {
    "name": "ipython",
    "version": 3
   },
   "file_extension": ".py",
   "mimetype": "text/x-python",
   "name": "python",
   "nbconvert_exporter": "python",
   "pygments_lexer": "ipython3",
   "version": "3.7.4"
  }
 },
 "nbformat": 4,
 "nbformat_minor": 2
}
