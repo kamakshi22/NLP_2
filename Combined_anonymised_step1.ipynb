{
 "cells": [
  {
   "cell_type": "code",
   "execution_count": 37,
   "metadata": {},
   "outputs": [],
   "source": [
    "import string\n",
    "import sys\n",
    "import os\n",
    "import pandas as pd\n",
    "import numpy as np\n",
    "import re\n",
    "from tqdm import *\n",
    "tqdm.pandas()"
   ]
  },
  {
   "cell_type": "code",
   "execution_count": 38,
   "metadata": {},
   "outputs": [],
   "source": [
    "Names_new= pd.read_csv(\"/Users/kamakshibansal/Moorfields/Distinct_name_new_count.csv\")\n",
    "Names=pd.DataFrame()\n",
    "Names[\"Forename\"]=Names_new[\"Forename\"]\n",
    "Names=Names.dropna(axis=0)\n",
    "wordFrequency_name = dict.fromkeys(Names[\"Forename\"].str.lower().unique().tolist(),1 )"
   ]
  },
  {
   "cell_type": "code",
   "execution_count": 39,
   "metadata": {
    "scrolled": true
   },
   "outputs": [
    {
     "data": {
      "text/html": [
       "<div>\n",
       "<style scoped>\n",
       "    .dataframe tbody tr th:only-of-type {\n",
       "        vertical-align: middle;\n",
       "    }\n",
       "\n",
       "    .dataframe tbody tr th {\n",
       "        vertical-align: top;\n",
       "    }\n",
       "\n",
       "    .dataframe thead th {\n",
       "        text-align: right;\n",
       "    }\n",
       "</style>\n",
       "<table border=\"1\" class=\"dataframe\">\n",
       "  <thead>\n",
       "    <tr style=\"text-align: right;\">\n",
       "      <th></th>\n",
       "      <th>Forename</th>\n",
       "    </tr>\n",
       "  </thead>\n",
       "  <tbody>\n",
       "    <tr>\n",
       "      <td>0</td>\n",
       "      <td>adlane</td>\n",
       "    </tr>\n",
       "    <tr>\n",
       "      <td>1</td>\n",
       "      <td>admira</td>\n",
       "    </tr>\n",
       "    <tr>\n",
       "      <td>2</td>\n",
       "      <td>adotey</td>\n",
       "    </tr>\n",
       "    <tr>\n",
       "      <td>3</td>\n",
       "      <td>adrews</td>\n",
       "    </tr>\n",
       "    <tr>\n",
       "      <td>4</td>\n",
       "      <td>adzewnko</td>\n",
       "    </tr>\n",
       "    <tr>\n",
       "      <td>...</td>\n",
       "      <td>...</td>\n",
       "    </tr>\n",
       "    <tr>\n",
       "      <td>184529</td>\n",
       "      <td>david</td>\n",
       "    </tr>\n",
       "    <tr>\n",
       "      <td>184530</td>\n",
       "      <td>lane</td>\n",
       "    </tr>\n",
       "    <tr>\n",
       "      <td>184531</td>\n",
       "      <td>essex</td>\n",
       "    </tr>\n",
       "    <tr>\n",
       "      <td>184532</td>\n",
       "      <td>john</td>\n",
       "    </tr>\n",
       "    <tr>\n",
       "      <td>184533</td>\n",
       "      <td>le</td>\n",
       "    </tr>\n",
       "  </tbody>\n",
       "</table>\n",
       "<p>184533 rows × 1 columns</p>\n",
       "</div>"
      ],
      "text/plain": [
       "        Forename\n",
       "0         adlane\n",
       "1         admira\n",
       "2         adotey\n",
       "3         adrews\n",
       "4       adzewnko\n",
       "...          ...\n",
       "184529     david\n",
       "184530      lane\n",
       "184531     essex\n",
       "184532      john\n",
       "184533        le\n",
       "\n",
       "[184533 rows x 1 columns]"
      ]
     },
     "execution_count": 39,
     "metadata": {},
     "output_type": "execute_result"
    }
   ],
   "source": [
    "Names"
   ]
  },
  {
   "cell_type": "code",
   "execution_count": 40,
   "metadata": {},
   "outputs": [],
   "source": [
    "def clean_sentences(sentence):\n",
    "    result1= re.sub(r\"\"\"[\"?,>}{)\"\\/(.\\\\:$!]|'(?!(?<! ')[ts])|'s\"\"\", \" \", sentence.lower())\n",
    "    result1= re.sub(' +', ' ', result1)\n",
    "    result1= re.sub('(\\\\b[A-Za-z] \\\\b|\\\\b [A-Za-z]\\\\b)', '',result1)\n",
    "    result2= remove_hospitalname(result1)\n",
    "    return result2\n",
    "\n",
    "def clean_mr(query):\n",
    "    mr_list = re.compile(r'(^ms|^ms.|^miss|^mr|^mr.|^mrs.|^miss.|^mrs|^dr.|^dr|^dear.|^dob|^number|\\s*ms|\\s*ms.|\\s*miss|\\s*mr|\\s*mr.|\\s*mrs.|\\s*miss.|\\s*mrs|\\s*dr.|\\s*dr|\\s*dob|\\s*number)\\s+([^\\s]+)\\s*').findall(query)\n",
    "    mr_list = sorted(mr_list, key = lambda k : len(k[1]), reverse=True)\n",
    "    for mr_word_tuple in mr_list:\n",
    "        word_comb = ' '.join(list(mr_word_tuple))\n",
    "        first_word = mr_word_tuple[0]\n",
    "        query = query.replace(word_comb, first_word+' ')\n",
    "        \n",
    "    query=re.sub('(\\\\b[A-Za-z] \\\\b|\\\\b [A-Za-z]\\\\b)', '',query)\n",
    "    return query\n",
    "\n",
    "def clean_mr_and_remove_stopwords(query, merge_dict):\n",
    "    result2 = clean_mr(query).split()\n",
    "    resultwords  = [word for word in result2 if merge_dict[word]==0]\n",
    "    final1= ' '.join(resultwords) \n",
    "    final2= remove_match(final1)\n",
    "    final= remove_cc(final2)\n",
    "#     print (final)\n",
    "    return final\n",
    "\n",
    "def remove_match(qu):\n",
    "    qu= re.sub('re.*b0','XXXXXXXX', qu, flags= re.DOTALL)\n",
    "    return qu\n",
    "\n",
    "def remove_hospitalname(abc):\n",
    "    result= re.sub(r\"\\w+(?=\\s+hospital)\", \"\", abc)\n",
    "    return result\n",
    "\n",
    "def remove_cc(qu):\n",
    "    result= re.sub('original recipient.*par','XXXXXXXX', qu, flags= re.DOTALL)\n",
    "    return result"
   ]
  },
  {
   "cell_type": "code",
   "execution_count": 21,
   "metadata": {
    "scrolled": true
   },
   "outputs": [],
   "source": [
    "# for i in range(1999, 2020):\n",
    "#     print(i)"
   ]
  },
  {
   "cell_type": "code",
   "execution_count": 1,
   "metadata": {
    "scrolled": true
   },
   "outputs": [
    {
     "name": "stdout",
     "output_type": "stream",
     "text": [
      "Working on year 1999 file\n"
     ]
    },
    {
     "ename": "NameError",
     "evalue": "name 'pd' is not defined",
     "output_type": "error",
     "traceback": [
      "\u001b[0;31m---------------------------------------------------------------------------\u001b[0m",
      "\u001b[0;31mNameError\u001b[0m                                 Traceback (most recent call last)",
      "\u001b[0;32m<ipython-input-1-79be46798630>\u001b[0m in \u001b[0;36m<module>\u001b[0;34m\u001b[0m\n\u001b[1;32m      3\u001b[0m \u001b[0;32mfor\u001b[0m \u001b[0mi\u001b[0m \u001b[0;32min\u001b[0m \u001b[0mrange\u001b[0m\u001b[0;34m(\u001b[0m\u001b[0;36m1999\u001b[0m\u001b[0;34m,\u001b[0m \u001b[0;36m2020\u001b[0m\u001b[0;34m)\u001b[0m\u001b[0;34m:\u001b[0m\u001b[0;34m\u001b[0m\u001b[0;34m\u001b[0m\u001b[0m\n\u001b[1;32m      4\u001b[0m     \u001b[0mprint\u001b[0m \u001b[0;34m(\u001b[0m\u001b[0;34m\"Working on year {} file\"\u001b[0m\u001b[0;34m.\u001b[0m\u001b[0mformat\u001b[0m\u001b[0;34m(\u001b[0m\u001b[0mi\u001b[0m\u001b[0;34m)\u001b[0m\u001b[0;34m)\u001b[0m\u001b[0;34m\u001b[0m\u001b[0;34m\u001b[0m\u001b[0m\n\u001b[0;32m----> 5\u001b[0;31m     \u001b[0mLetters\u001b[0m \u001b[0;34m=\u001b[0m \u001b[0mpd\u001b[0m\u001b[0;34m.\u001b[0m\u001b[0mread_csv\u001b[0m\u001b[0;34m(\u001b[0m\u001b[0;34m\"/Users/kamakshibansal/Moorfields/Letters/Cleaned_Letters/cleaned{}.csv\"\u001b[0m\u001b[0;34m.\u001b[0m\u001b[0mformat\u001b[0m\u001b[0;34m(\u001b[0m\u001b[0mi\u001b[0m\u001b[0;34m)\u001b[0m\u001b[0;34m)\u001b[0m\u001b[0;34m\u001b[0m\u001b[0;34m\u001b[0m\u001b[0m\n\u001b[0m\u001b[1;32m      6\u001b[0m     \u001b[0mLetters\u001b[0m\u001b[0;34m=\u001b[0m\u001b[0mLetters\u001b[0m\u001b[0;34m.\u001b[0m\u001b[0mdropna\u001b[0m\u001b[0;34m(\u001b[0m\u001b[0;34m)\u001b[0m\u001b[0;34m\u001b[0m\u001b[0;34m\u001b[0m\u001b[0m\n\u001b[1;32m      7\u001b[0m \u001b[0;34m\u001b[0m\u001b[0m\n",
      "\u001b[0;31mNameError\u001b[0m: name 'pd' is not defined"
     ]
    }
   ],
   "source": [
    "# number_of_files = 2\n",
    "\n",
    "for i in range(1999, 2020):\n",
    "    print (\"Working on year {} file\".format(i))\n",
    "    Letters = pd.read_csv(\"/Users/kamakshibansal/Moorfields/Letters/Cleaned_Letters/cleaned{}.csv\".format(i))\n",
    "    Letters=Letters.dropna()\n",
    "\n",
    "\n",
    "    b=Letters[\"LetterBody\"].map(clean_sentences).str.lower()\n",
    "    b=b.values.tolist()\n",
    "    k=' '.join(b)\n",
    "    z=k.split()\n",
    "\n",
    "    z1=list(dict.fromkeys(z))\n",
    "    wordFrequency = dict.fromkeys(z1,0 )\n",
    "    merge_dict= { **wordFrequency,**wordFrequency_name}\n",
    "\n",
    "    %timeit -n 1 -r 1 Letters['clean_sentence'] = Letters.LetterBody.progress_map(clean_sentences)\n",
    "    %timeit -n 1 -r 1 Letters['final_sentence'] = Letters.clean_sentence.progress_map(lambda c: clean_mr_and_remove_stopwords(c, merge_dict))\n",
    "\n",
    "    Letters= Letters.drop([\"PatKey\",\"clean_sentence\", \"SeqId\",\"LetterBodyX\"], axis=1)\n",
    "\n",
    "    Letters.to_csv(\"/Users/kamakshibansal/Moorfields/Letters/Anonymised/Letters_new_{}.csv\".format(i))\n",
    "    \n"
   ]
  },
  {
   "cell_type": "code",
   "execution_count": 1,
   "metadata": {},
   "outputs": [],
   "source": [
    "ab= \"abrasion, corneal abrasion, corneal erosion, ct, left, recurrent, us\""
   ]
  },
  {
   "cell_type": "code",
   "execution_count": 5,
   "metadata": {},
   "outputs": [],
   "source": [
    "k= ab.split(\",\")"
   ]
  },
  {
   "cell_type": "code",
   "execution_count": 6,
   "metadata": {},
   "outputs": [],
   "source": [
    "z11=list(dict.fromkeys(k))"
   ]
  },
  {
   "cell_type": "code",
   "execution_count": 7,
   "metadata": {},
   "outputs": [],
   "source": [
    "wordFre = dict.fromkeys(z11,0 )"
   ]
  },
  {
   "cell_type": "code",
   "execution_count": 8,
   "metadata": {},
   "outputs": [
    {
     "data": {
      "text/plain": [
       "{'abrasion': 0,\n",
       " ' corneal abrasion': 0,\n",
       " ' corneal erosion': 0,\n",
       " ' ct': 0,\n",
       " ' left': 0,\n",
       " ' recurrent': 0,\n",
       " ' us': 0}"
      ]
     },
     "execution_count": 8,
     "metadata": {},
     "output_type": "execute_result"
    }
   ],
   "source": [
    "wordFre"
   ]
  },
  {
   "cell_type": "code",
   "execution_count": null,
   "metadata": {},
   "outputs": [],
   "source": []
  }
 ],
 "metadata": {
  "kernelspec": {
   "display_name": "Python 3",
   "language": "python",
   "name": "python3"
  },
  "language_info": {
   "codemirror_mode": {
    "name": "ipython",
    "version": 3
   },
   "file_extension": ".py",
   "mimetype": "text/x-python",
   "name": "python",
   "nbconvert_exporter": "python",
   "pygments_lexer": "ipython3",
   "version": "3.7.4"
  }
 },
 "nbformat": 4,
 "nbformat_minor": 2
}
