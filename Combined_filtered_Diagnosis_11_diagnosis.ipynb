{
 "cells": [
  {
   "cell_type": "code",
   "execution_count": 1,
   "metadata": {},
   "outputs": [
    {
     "name": "stderr",
     "output_type": "stream",
     "text": [
      "/Users/kamakshibansal/opt/anaconda3/lib/python3.7/site-packages/tqdm/std.py:648: FutureWarning: The Panel class is removed from pandas. Accessing it from the top-level namespace will also be removed in the next version\n",
      "  from pandas import Panel\n"
     ]
    }
   ],
   "source": [
    "import pandas as pd\n",
    "import numpy as np\n",
    "from tqdm import *\n",
    "import re\n",
    "tqdm.pandas()\n"
   ]
  },
  {
   "cell_type": "code",
   "execution_count": 2,
   "metadata": {},
   "outputs": [],
   "source": [
    "def return_nan(tup):\n",
    "    return([None] if len(tup[0]) == 0 else tup[0])\n",
    "\n",
    "def get_indexes_match(l1, l2):\n",
    "\n",
    "    return([return_nan(np.where([x in e for x in l2])) for e in l1])\n",
    "\n",
    "def merge(df1, df2, left_on, right_on):\n",
    "    df1.loc[:, 'idx'] = get_indexes_match(df1[left_on].values,\n",
    "                                          df2[right_on].values)\n",
    "    \n",
    "def clean_keywords(keyword):\n",
    "    return re.sub('[^.,a-zA-Z0-9 \\n\\.]', '', str(keyword))\n",
    "\n",
    "def clean_sentences(sentence):\n",
    "    result1= sentence.replace(', ', ',')\n",
    "    return result1\n",
    "\n",
    "\n",
    "def clean_mr_and_remove_stopwords(query, merge_dict):\n",
    "    result2 = query.split(\",\")\n",
    "    resultwords  = [word for word in result2 if merge_dict[word]==0]\n",
    "    final= ','.join(resultwords)\n",
    "    final= final.rstrip()\n",
    "    return final"
   ]
  },
  {
   "cell_type": "code",
   "execution_count": 8,
   "metadata": {
    "scrolled": true
   },
   "outputs": [
    {
     "name": "stdout",
     "output_type": "stream",
     "text": [
      "Working on year 1999 file\n",
      "The size of 1999 file is  (5771, 8)\n"
     ]
    },
    {
     "name": "stderr",
     "output_type": "stream",
     "text": [
      "/Users/kamakshibansal/opt/anaconda3/lib/python3.7/site-packages/ipykernel_launcher.py:24: SettingWithCopyWarning: \n",
      "A value is trying to be set on a copy of a slice from a DataFrame.\n",
      "Try using .loc[row_indexer,col_indexer] = value instead\n",
      "\n",
      "See the caveats in the documentation: http://pandas.pydata.org/pandas-docs/stable/user_guide/indexing.html#returning-a-view-versus-a-copy\n",
      "100%|██████████| 1137/1137 [00:00<00:00, 443620.80it/s]\n",
      "100%|██████████| 1137/1137 [00:00<00:00, 235840.15it/s]"
     ]
    },
    {
     "name": "stdout",
     "output_type": "stream",
     "text": [
      "The size of 1999 file filtering with top 11 diagnosis is  (1279, 10)\n",
      "The size of 1999 file with one diagnosis as lablel is  (1137, 10)\n",
      "8.92 ms ± 0 ns per loop (mean ± std. dev. of 1 run, 1 loop each)\n",
      "7.25 ms ± 0 ns per loop (mean ± std. dev. of 1 run, 1 loop each)\n",
      "The size of all files together is, i.e. sum= 1137\n"
     ]
    },
    {
     "name": "stderr",
     "output_type": "stream",
     "text": [
      "\n"
     ]
    }
   ],
   "source": [
    "summ=0\n",
    "for i in range(1999, 2020):\n",
    "    File= pd.read_csv(\"/Users/kamakshibansal/Moorfields/Top_11_Diag.csv\")\n",
    "    File[\"Diagnosis\"]= File[\"Diagnosis\"].str.lower()\n",
    "\n",
    "    wordFrequency_name = dict.fromkeys(File[\"Diagnosis\"].str.lower().unique().tolist(),1 )\n",
    "    \n",
    "    print (\"Working on year {} file\".format(i))\n",
    "    FileL = pd.read_csv(\"//Users/kamakshibansal/Moorfields/Letters/Filtered_Symptoms/File_withsymptoms{}.csv\".format(i))\n",
    "    FileL=FileL.dropna()\n",
    "    print (\"The size of {} file is \".format(i), FileL.shape)\n",
    "\n",
    "    FileL[\"LetterBody\"]= FileL[\"LetterBody\"].str.lower()\n",
    "    \n",
    "    merge(FileL, File, left_on='LetterBody', right_on='Diagnosis')\n",
    "    \n",
    "    File[\"Diagnosis\"] = File.values.tolist()\n",
    "    FileL['Diagnosis'] = FileL.idx.apply(lambda x: [File[\"Diagnosis\"].get(i) for i in x])\n",
    "\n",
    "    FileL['Diagnosis2'] = FileL.Diagnosis.map(clean_keywords)\n",
    "    FileL= FileL.drop([\"Diagnosis\",\"idx\"], axis=1)\n",
    "\n",
    "    File_Symp= FileL[FileL['Diagnosis2']!=\"None\"]\n",
    "    File_Symp['count'] = File_Symp.Diagnosis2.apply(lambda x: len(x.split(',')))\n",
    "    # change the count to 2 in case you want a file with 2 diagnosis\n",
    "    File_with_1_diagnosis= File_Symp[File_Symp['count']==1]\n",
    "    \n",
    "    print (\"The size of {} file filtering with top 11 diagnosis is \".format(i), File_Symp.shape)\n",
    "    print(\"The size of {} file with one diagnosis as lablel is \".format(i), File_with_1_diagnosis.shape)\n",
    "    \n",
    "    a= len(File_with_1_diagnosis)\n",
    "#     print(a)\n",
    "    summ= summ + a\n",
    "#     File_with_1_diagnosis= File_with_1_diagnosis[[\"final_sentence\", 'Diagnosis2']]\n",
    "    File_with_1_diagnosis= File_with_1_diagnosis[[\"Symptoms2\", 'Diagnosis2']]\n",
    "    \n",
    "    # To remove the diagnosis from the symptoms if exist, as if same label is in input, the accuracy will be very high.\n",
    "    b=File_with_1_diagnosis[\"Symptoms2\"].map(clean_sentences).str.lower()\n",
    "    b=b.values.tolist()\n",
    "    k=','.join(b)\n",
    "    z=k.split(\",\")\n",
    "\n",
    "    z1=list(dict.fromkeys(z))\n",
    "    wordFrequency = dict.fromkeys(z1,0 )\n",
    "    merge_dict= { **wordFrequency,**wordFrequency_name}\n",
    "\n",
    "    %timeit -n 1 -r 1 File_with_1_diagnosis['clean_sentence'] = File_with_1_diagnosis.Symptoms2.progress_map(clean_sentences)\n",
    "    %timeit -n 1 -r 1 File_with_1_diagnosis['Symptoms'] = File_with_1_diagnosis.clean_sentence.progress_map(lambda c: clean_mr_and_remove_stopwords(c, merge_dict))\n",
    "\n",
    "    File_with_1_diagnosis= File_with_1_diagnosis[[\"Symptoms\", 'Diagnosis2']]\n",
    "    \n",
    "    File_with_1_diagnosis.to_csv(\"/Users/kamakshibansal/Moorfields/Letters/File_with_1_diagnosis11_symp/File_withDiagnosis{}.csv\".format(i))\n",
    "    \n",
    "print(\"The size of all files together is, i.e. sum=\", summ)    \n",
    "    "
   ]
  },
  {
   "cell_type": "code",
   "execution_count": 4,
   "metadata": {},
   "outputs": [
    {
     "data": {
      "text/plain": [
       "866607"
      ]
     },
     "execution_count": 4,
     "metadata": {},
     "output_type": "execute_result"
    }
   ],
   "source": [
    "66863+66433+70669+81138+ 94125+ 109094+ 118500+  131568+ 128217"
   ]
  },
  {
   "cell_type": "code",
   "execution_count": 5,
   "metadata": {},
   "outputs": [
    {
     "name": "stdout",
     "output_type": "stream",
     "text": [
      "The size of the file is:  (1279, 10)\n"
     ]
    }
   ],
   "source": [
    "print (\"The size of the file is: \", File_Symp.shape)"
   ]
  },
  {
   "cell_type": "code",
   "execution_count": 6,
   "metadata": {
    "scrolled": true
   },
   "outputs": [
    {
     "ename": "KeyError",
     "evalue": "\"['LetterBody'] not in index\"",
     "output_type": "error",
     "traceback": [
      "\u001b[0;31m---------------------------------------------------------------------------\u001b[0m",
      "\u001b[0;31mKeyError\u001b[0m                                  Traceback (most recent call last)",
      "\u001b[0;32m<ipython-input-6-84336a318f3c>\u001b[0m in \u001b[0;36m<module>\u001b[0;34m\u001b[0m\n\u001b[0;32m----> 1\u001b[0;31m \u001b[0mFile_with_1_diagnosis\u001b[0m\u001b[0;34m[\u001b[0m\u001b[0;34m[\u001b[0m\u001b[0;34m\"LetterBody\"\u001b[0m\u001b[0;34m,\u001b[0m \u001b[0;34m'Diagnosis2'\u001b[0m\u001b[0;34m]\u001b[0m\u001b[0;34m]\u001b[0m\u001b[0;34m\u001b[0m\u001b[0;34m\u001b[0m\u001b[0m\n\u001b[0m",
      "\u001b[0;32m~/opt/anaconda3/lib/python3.7/site-packages/pandas/core/frame.py\u001b[0m in \u001b[0;36m__getitem__\u001b[0;34m(self, key)\u001b[0m\n\u001b[1;32m   2984\u001b[0m             \u001b[0;32mif\u001b[0m \u001b[0mis_iterator\u001b[0m\u001b[0;34m(\u001b[0m\u001b[0mkey\u001b[0m\u001b[0;34m)\u001b[0m\u001b[0;34m:\u001b[0m\u001b[0;34m\u001b[0m\u001b[0;34m\u001b[0m\u001b[0m\n\u001b[1;32m   2985\u001b[0m                 \u001b[0mkey\u001b[0m \u001b[0;34m=\u001b[0m \u001b[0mlist\u001b[0m\u001b[0;34m(\u001b[0m\u001b[0mkey\u001b[0m\u001b[0;34m)\u001b[0m\u001b[0;34m\u001b[0m\u001b[0;34m\u001b[0m\u001b[0m\n\u001b[0;32m-> 2986\u001b[0;31m             \u001b[0mindexer\u001b[0m \u001b[0;34m=\u001b[0m \u001b[0mself\u001b[0m\u001b[0;34m.\u001b[0m\u001b[0mloc\u001b[0m\u001b[0;34m.\u001b[0m\u001b[0m_convert_to_indexer\u001b[0m\u001b[0;34m(\u001b[0m\u001b[0mkey\u001b[0m\u001b[0;34m,\u001b[0m \u001b[0maxis\u001b[0m\u001b[0;34m=\u001b[0m\u001b[0;36m1\u001b[0m\u001b[0;34m,\u001b[0m \u001b[0mraise_missing\u001b[0m\u001b[0;34m=\u001b[0m\u001b[0;32mTrue\u001b[0m\u001b[0;34m)\u001b[0m\u001b[0;34m\u001b[0m\u001b[0;34m\u001b[0m\u001b[0m\n\u001b[0m\u001b[1;32m   2987\u001b[0m \u001b[0;34m\u001b[0m\u001b[0m\n\u001b[1;32m   2988\u001b[0m         \u001b[0;31m# take() does not accept boolean indexers\u001b[0m\u001b[0;34m\u001b[0m\u001b[0;34m\u001b[0m\u001b[0;34m\u001b[0m\u001b[0m\n",
      "\u001b[0;32m~/opt/anaconda3/lib/python3.7/site-packages/pandas/core/indexing.py\u001b[0m in \u001b[0;36m_convert_to_indexer\u001b[0;34m(self, obj, axis, is_setter, raise_missing)\u001b[0m\n\u001b[1;32m   1283\u001b[0m                 \u001b[0;31m# When setting, missing keys are not allowed, even with .loc:\u001b[0m\u001b[0;34m\u001b[0m\u001b[0;34m\u001b[0m\u001b[0;34m\u001b[0m\u001b[0m\n\u001b[1;32m   1284\u001b[0m                 \u001b[0mkwargs\u001b[0m \u001b[0;34m=\u001b[0m \u001b[0;34m{\u001b[0m\u001b[0;34m\"raise_missing\"\u001b[0m\u001b[0;34m:\u001b[0m \u001b[0;32mTrue\u001b[0m \u001b[0;32mif\u001b[0m \u001b[0mis_setter\u001b[0m \u001b[0;32melse\u001b[0m \u001b[0mraise_missing\u001b[0m\u001b[0;34m}\u001b[0m\u001b[0;34m\u001b[0m\u001b[0;34m\u001b[0m\u001b[0m\n\u001b[0;32m-> 1285\u001b[0;31m                 \u001b[0;32mreturn\u001b[0m \u001b[0mself\u001b[0m\u001b[0;34m.\u001b[0m\u001b[0m_get_listlike_indexer\u001b[0m\u001b[0;34m(\u001b[0m\u001b[0mobj\u001b[0m\u001b[0;34m,\u001b[0m \u001b[0maxis\u001b[0m\u001b[0;34m,\u001b[0m \u001b[0;34m**\u001b[0m\u001b[0mkwargs\u001b[0m\u001b[0;34m)\u001b[0m\u001b[0;34m[\u001b[0m\u001b[0;36m1\u001b[0m\u001b[0;34m]\u001b[0m\u001b[0;34m\u001b[0m\u001b[0;34m\u001b[0m\u001b[0m\n\u001b[0m\u001b[1;32m   1286\u001b[0m         \u001b[0;32melse\u001b[0m\u001b[0;34m:\u001b[0m\u001b[0;34m\u001b[0m\u001b[0;34m\u001b[0m\u001b[0m\n\u001b[1;32m   1287\u001b[0m             \u001b[0;32mtry\u001b[0m\u001b[0;34m:\u001b[0m\u001b[0;34m\u001b[0m\u001b[0;34m\u001b[0m\u001b[0m\n",
      "\u001b[0;32m~/opt/anaconda3/lib/python3.7/site-packages/pandas/core/indexing.py\u001b[0m in \u001b[0;36m_get_listlike_indexer\u001b[0;34m(self, key, axis, raise_missing)\u001b[0m\n\u001b[1;32m   1090\u001b[0m \u001b[0;34m\u001b[0m\u001b[0m\n\u001b[1;32m   1091\u001b[0m         self._validate_read_indexer(\n\u001b[0;32m-> 1092\u001b[0;31m             \u001b[0mkeyarr\u001b[0m\u001b[0;34m,\u001b[0m \u001b[0mindexer\u001b[0m\u001b[0;34m,\u001b[0m \u001b[0mo\u001b[0m\u001b[0;34m.\u001b[0m\u001b[0m_get_axis_number\u001b[0m\u001b[0;34m(\u001b[0m\u001b[0maxis\u001b[0m\u001b[0;34m)\u001b[0m\u001b[0;34m,\u001b[0m \u001b[0mraise_missing\u001b[0m\u001b[0;34m=\u001b[0m\u001b[0mraise_missing\u001b[0m\u001b[0;34m\u001b[0m\u001b[0;34m\u001b[0m\u001b[0m\n\u001b[0m\u001b[1;32m   1093\u001b[0m         )\n\u001b[1;32m   1094\u001b[0m         \u001b[0;32mreturn\u001b[0m \u001b[0mkeyarr\u001b[0m\u001b[0;34m,\u001b[0m \u001b[0mindexer\u001b[0m\u001b[0;34m\u001b[0m\u001b[0;34m\u001b[0m\u001b[0m\n",
      "\u001b[0;32m~/opt/anaconda3/lib/python3.7/site-packages/pandas/core/indexing.py\u001b[0m in \u001b[0;36m_validate_read_indexer\u001b[0;34m(self, key, indexer, axis, raise_missing)\u001b[0m\n\u001b[1;32m   1183\u001b[0m             \u001b[0;32mif\u001b[0m \u001b[0;32mnot\u001b[0m \u001b[0;34m(\u001b[0m\u001b[0mself\u001b[0m\u001b[0;34m.\u001b[0m\u001b[0mname\u001b[0m \u001b[0;34m==\u001b[0m \u001b[0;34m\"loc\"\u001b[0m \u001b[0;32mand\u001b[0m \u001b[0;32mnot\u001b[0m \u001b[0mraise_missing\u001b[0m\u001b[0;34m)\u001b[0m\u001b[0;34m:\u001b[0m\u001b[0;34m\u001b[0m\u001b[0;34m\u001b[0m\u001b[0m\n\u001b[1;32m   1184\u001b[0m                 \u001b[0mnot_found\u001b[0m \u001b[0;34m=\u001b[0m \u001b[0mlist\u001b[0m\u001b[0;34m(\u001b[0m\u001b[0mset\u001b[0m\u001b[0;34m(\u001b[0m\u001b[0mkey\u001b[0m\u001b[0;34m)\u001b[0m \u001b[0;34m-\u001b[0m \u001b[0mset\u001b[0m\u001b[0;34m(\u001b[0m\u001b[0max\u001b[0m\u001b[0;34m)\u001b[0m\u001b[0;34m)\u001b[0m\u001b[0;34m\u001b[0m\u001b[0;34m\u001b[0m\u001b[0m\n\u001b[0;32m-> 1185\u001b[0;31m                 \u001b[0;32mraise\u001b[0m \u001b[0mKeyError\u001b[0m\u001b[0;34m(\u001b[0m\u001b[0;34m\"{} not in index\"\u001b[0m\u001b[0;34m.\u001b[0m\u001b[0mformat\u001b[0m\u001b[0;34m(\u001b[0m\u001b[0mnot_found\u001b[0m\u001b[0;34m)\u001b[0m\u001b[0;34m)\u001b[0m\u001b[0;34m\u001b[0m\u001b[0;34m\u001b[0m\u001b[0m\n\u001b[0m\u001b[1;32m   1186\u001b[0m \u001b[0;34m\u001b[0m\u001b[0m\n\u001b[1;32m   1187\u001b[0m             \u001b[0;31m# we skip the warning on Categorical/Interval\u001b[0m\u001b[0;34m\u001b[0m\u001b[0;34m\u001b[0m\u001b[0;34m\u001b[0m\u001b[0m\n",
      "\u001b[0;31mKeyError\u001b[0m: \"['LetterBody'] not in index\""
     ]
    }
   ],
   "source": [
    "File_with_1_diagnosis[[\"LetterBody\", 'Diagnosis2']]"
   ]
  },
  {
   "cell_type": "code",
   "execution_count": null,
   "metadata": {},
   "outputs": [],
   "source": [
    "# print(File_Symp.shape)"
   ]
  },
  {
   "cell_type": "code",
   "execution_count": null,
   "metadata": {},
   "outputs": [],
   "source": [
    "# File_Symp['count'] = File_Symp.Diagnosis2.apply(lambda x: len(x.split(',')))"
   ]
  },
  {
   "cell_type": "code",
   "execution_count": null,
   "metadata": {
    "scrolled": true
   },
   "outputs": [],
   "source": [
    "# File_Symp[File_Symp['count']==1]"
   ]
  },
  {
   "cell_type": "code",
   "execution_count": null,
   "metadata": {},
   "outputs": [],
   "source": [
    "1293790"
   ]
  },
  {
   "cell_type": "code",
   "execution_count": null,
   "metadata": {},
   "outputs": [],
   "source": [
    "File= pd.read_csv(\"/Users/kamakshibansal/Moorfields/Top_11_Diag.csv\")"
   ]
  },
  {
   "cell_type": "code",
   "execution_count": null,
   "metadata": {},
   "outputs": [],
   "source": [
    "File"
   ]
  },
  {
   "cell_type": "code",
   "execution_count": null,
   "metadata": {},
   "outputs": [],
   "source": [
    "import matplotlib.pyplot as plt\n",
    "import seaborn as sns\n",
    "sns.set(style=\"darkgrid\")\n"
   ]
  },
  {
   "cell_type": "code",
   "execution_count": null,
   "metadata": {},
   "outputs": [],
   "source": [
    "plt.figure(figsize=(10,5))\n",
    "sns.barplot(File['Diagnosis'], File['percentage'])\n",
    "plt.xticks(rotation=90)"
   ]
  },
  {
   "cell_type": "code",
   "execution_count": null,
   "metadata": {},
   "outputs": [],
   "source": []
  }
 ],
 "metadata": {
  "kernelspec": {
   "display_name": "Python 3",
   "language": "python",
   "name": "python3"
  },
  "language_info": {
   "codemirror_mode": {
    "name": "ipython",
    "version": 3
   },
   "file_extension": ".py",
   "mimetype": "text/x-python",
   "name": "python",
   "nbconvert_exporter": "python",
   "pygments_lexer": "ipython3",
   "version": "3.7.4"
  }
 },
 "nbformat": 4,
 "nbformat_minor": 2
}
